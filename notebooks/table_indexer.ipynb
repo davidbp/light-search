{
 "cells": [
  {
   "cell_type": "markdown",
   "metadata": {},
   "source": [
    "## Store/retrieve rows from a Dataframe from disk\n",
    "\n",
    "The goal of a `TableIndexer` is two-fold:\n",
    "- Use `.index(df, cols)` to index some user defined columns of a table (pd.DataFrame) to disk.\n",
    "- Use `.search(query)` to retrieve the rows of the dataframe that match the `query`"
   ]
  },
  {
   "cell_type": "code",
   "execution_count": 21,
   "metadata": {
    "ExecuteTime": {
     "end_time": "2025-04-20T21:19:34.033813Z",
     "start_time": "2025-04-20T21:19:32.364829Z"
    }
   },
   "outputs": [
    {
     "name": "stdout",
     "output_type": "stream",
     "text": [
      "The autoreload extension is already loaded. To reload it, use:\n",
      "  %reload_ext autoreload\n"
     ]
    }
   ],
   "source": [
    "%load_ext autoreload\n",
    "%autoreload 2\n",
    "\n",
    "import pandas as pd\n",
    "from lsearch import TableIndexer"
   ]
  },
  {
   "cell_type": "code",
   "execution_count": 24,
   "metadata": {},
   "outputs": [],
   "source": [
    "df_ = pd.read_parquet('dataset.parquet')"
   ]
  },
  {
   "cell_type": "code",
   "execution_count": 32,
   "metadata": {
    "ExecuteTime": {
     "end_time": "2025-04-20T21:19:34.147952Z",
     "start_time": "2025-04-20T21:19:34.068584Z"
    }
   },
   "outputs": [
    {
     "data": {
      "text/html": [
       "<div>\n",
       "<style scoped>\n",
       "    .dataframe tbody tr th:only-of-type {\n",
       "        vertical-align: middle;\n",
       "    }\n",
       "\n",
       "    .dataframe tbody tr th {\n",
       "        vertical-align: top;\n",
       "    }\n",
       "\n",
       "    .dataframe thead th {\n",
       "        text-align: right;\n",
       "    }\n",
       "</style>\n",
       "<table border=\"1\" class=\"dataframe\">\n",
       "  <thead>\n",
       "    <tr style=\"text-align: right;\">\n",
       "      <th></th>\n",
       "      <th>parent_asin</th>\n",
       "      <th>main_category</th>\n",
       "      <th>title</th>\n",
       "      <th>description</th>\n",
       "      <th>features</th>\n",
       "      <th>embellished_description</th>\n",
       "      <th>brand</th>\n",
       "      <th>images</th>\n",
       "      <th>short_query</th>\n",
       "      <th>long_query</th>\n",
       "    </tr>\n",
       "  </thead>\n",
       "  <tbody>\n",
       "    <tr>\n",
       "      <th>0</th>\n",
       "      <td>B016UIUCRG</td>\n",
       "      <td>Sports &amp; Outdoors</td>\n",
       "      <td>NHL Molded Auto Emblem</td>\n",
       "      <td>Showcase your team spirit with this eye-catchi...</td>\n",
       "      <td>Made in US\\nEye-catching auto emblem measures ...</td>\n",
       "      <td>###Description###\\nShowcase your team spirit w...</td>\n",
       "      <td>Rico Industries</td>\n",
       "      <td>[{'hi_res': 'https://m.media-amazon.com/images...</td>\n",
       "      <td>NHL auto emblem sticker</td>\n",
       "      <td>3D molded NHL auto emblem sticker for Washingt...</td>\n",
       "    </tr>\n",
       "    <tr>\n",
       "      <th>1</th>\n",
       "      <td>B01ARINE7U</td>\n",
       "      <td>AMAZON FASHION</td>\n",
       "      <td>Dickies Men's Short Sleeve Western Shirt</td>\n",
       "      <td>Dickies is the leading Global brand of innovat...</td>\n",
       "      <td>55% Cotton, 45% Polyester\\nImported\\nMachine W...</td>\n",
       "      <td>###Description###\\nThis Dickies Men's Short Sl...</td>\n",
       "      <td>Dickie's Men's Tops</td>\n",
       "      <td>[{'hi_res': 'https://m.media-amazon.com/images...</td>\n",
       "      <td>Dickies Men's Short Sleeve Western Shirt</td>\n",
       "      <td>Dickies men's plaid short sleeve western shirt...</td>\n",
       "    </tr>\n",
       "  </tbody>\n",
       "</table>\n",
       "</div>"
      ],
      "text/plain": [
       "  parent_asin      main_category                                     title  \\\n",
       "0  B016UIUCRG  Sports & Outdoors                    NHL Molded Auto Emblem   \n",
       "1  B01ARINE7U     AMAZON FASHION  Dickies Men's Short Sleeve Western Shirt   \n",
       "\n",
       "                                         description  \\\n",
       "0  Showcase your team spirit with this eye-catchi...   \n",
       "1  Dickies is the leading Global brand of innovat...   \n",
       "\n",
       "                                            features  \\\n",
       "0  Made in US\\nEye-catching auto emblem measures ...   \n",
       "1  55% Cotton, 45% Polyester\\nImported\\nMachine W...   \n",
       "\n",
       "                             embellished_description                brand  \\\n",
       "0  ###Description###\\nShowcase your team spirit w...      Rico Industries   \n",
       "1  ###Description###\\nThis Dickies Men's Short Sl...  Dickie's Men's Tops   \n",
       "\n",
       "                                              images  \\\n",
       "0  [{'hi_res': 'https://m.media-amazon.com/images...   \n",
       "1  [{'hi_res': 'https://m.media-amazon.com/images...   \n",
       "\n",
       "                                short_query  \\\n",
       "0                   NHL auto emblem sticker   \n",
       "1  Dickies Men's Short Sleeve Western Shirt   \n",
       "\n",
       "                                          long_query  \n",
       "0  3D molded NHL auto emblem sticker for Washingt...  \n",
       "1  Dickies men's plaid short sleeve western shirt...  "
      ]
     },
     "execution_count": 32,
     "metadata": {},
     "output_type": "execute_result"
    }
   ],
   "source": [
    "df_[0:2]"
   ]
  },
  {
   "cell_type": "code",
   "execution_count": 47,
   "metadata": {},
   "outputs": [
    {
     "data": {
      "text/plain": [
       "{'parent_asin': 'str',\n",
       " 'main_category': 'str',\n",
       " 'title': 'str',\n",
       " 'description': 'str',\n",
       " 'features': 'str',\n",
       " 'brand': 'str',\n",
       " 'short_query': 'str'}"
      ]
     },
     "execution_count": 47,
     "metadata": {},
     "output_type": "execute_result"
    }
   ],
   "source": [
    "cols = [\"parent_asin\", \n",
    "        \"main_category\",\n",
    "        \"title\",\n",
    "        \"description\",\n",
    "        \"features\", \n",
    "        \"brand\",\n",
    "        \"short_query\"]\n",
    "\n",
    "schema = {col:'str' for col in cols}\n",
    "schema"
   ]
  },
  {
   "cell_type": "code",
   "execution_count": 64,
   "metadata": {},
   "outputs": [],
   "source": [
    "df_indexer = TableIndexer(bin_path = \"./table_indexer\", \n",
    "                          schema=schema,\n",
    "                          variable_length_columns = cols)"
   ]
  },
  {
   "cell_type": "code",
   "execution_count": 65,
   "metadata": {},
   "outputs": [
    {
     "name": "stdout",
     "output_type": "stream",
     "text": [
      "InvertedIndex stored in ./table_indexer_/inv_index_title\n",
      "InvertedIndex stored in ./table_indexer_/inv_index_description\n"
     ]
    }
   ],
   "source": [
    "index_cols = ['title', 'description']\n",
    "df_indexer.index(df=df_, index_cols=index_cols, metadata_cols=cols, path='./table_indexer_')"
   ]
  },
  {
   "cell_type": "code",
   "execution_count": 67,
   "metadata": {},
   "outputs": [
    {
     "name": "stdout",
     "output_type": "stream",
     "text": [
      "CPU times: user 12.6 ms, sys: 1.39 ms, total: 14 ms\n",
      "Wall time: 13.7 ms\n"
     ]
    },
    {
     "data": {
      "text/html": [
       "<div>\n",
       "<style scoped>\n",
       "    .dataframe tbody tr th:only-of-type {\n",
       "        vertical-align: middle;\n",
       "    }\n",
       "\n",
       "    .dataframe tbody tr th {\n",
       "        vertical-align: top;\n",
       "    }\n",
       "\n",
       "    .dataframe thead th {\n",
       "        text-align: right;\n",
       "    }\n",
       "</style>\n",
       "<table border=\"1\" class=\"dataframe\">\n",
       "  <thead>\n",
       "    <tr style=\"text-align: right;\">\n",
       "      <th></th>\n",
       "      <th>parent_asin</th>\n",
       "      <th>main_category</th>\n",
       "      <th>title</th>\n",
       "      <th>description</th>\n",
       "      <th>features</th>\n",
       "      <th>brand</th>\n",
       "      <th>short_query</th>\n",
       "    </tr>\n",
       "  </thead>\n",
       "  <tbody>\n",
       "    <tr>\n",
       "      <th>0</th>\n",
       "      <td>B0BMQ8FPCQ</td>\n",
       "      <td>AMAZON FASHION</td>\n",
       "      <td>4pcs Back Stand for Nintendo Switch, Back Stan...</td>\n",
       "      <td>Package Includes: 4 x Kickstand Replacement(Bl...</td>\n",
       "      <td>Premium Material: The kickstand replacements a...</td>\n",
       "      <td>Flohayo</td>\n",
       "      <td>kickstand replacement for Nintendo Switch</td>\n",
       "    </tr>\n",
       "    <tr>\n",
       "      <th>1</th>\n",
       "      <td>B0BQJ3R35N</td>\n",
       "      <td>Sports &amp; Outdoors</td>\n",
       "      <td>SOAR NFL LED Gaming Headset and Stand</td>\n",
       "      <td>The SOAR RGX LED gaming headphones and stand p...</td>\n",
       "      <td>Imported\\nRGB Color Changing LED Lights on Hea...</td>\n",
       "      <td>SOAR</td>\n",
       "      <td>SOAR NFL LED Gaming Headset</td>\n",
       "    </tr>\n",
       "    <tr>\n",
       "      <th>2</th>\n",
       "      <td>B07ZBPMYBR</td>\n",
       "      <td>AMAZON FASHION</td>\n",
       "      <td>Plus Size Adult Deluxe Donkey Kong Costume</td>\n",
       "      <td>Donkey Kong really has the life, doesn't he? O...</td>\n",
       "      <td>100% Polyester\\nImported\\nNo Closure closure\\n...</td>\n",
       "      <td>Disguise</td>\n",
       "      <td>Donkey Kong costume</td>\n",
       "    </tr>\n",
       "    <tr>\n",
       "      <th>3</th>\n",
       "      <td>B07FTG3D2S</td>\n",
       "      <td>AMAZON FASHION</td>\n",
       "      <td>Tennis Racket for Nintendo Switch Joy-Con Cont...</td>\n",
       "      <td>Product description\\nRuiao Durable &amp; High Qual...</td>\n",
       "      <td>&lt;p&gt;Compatible with Nintendo Switch Game- Mario...</td>\n",
       "      <td>Ruiao</td>\n",
       "      <td>Tennis Racket for Nintendo Switch</td>\n",
       "    </tr>\n",
       "  </tbody>\n",
       "</table>\n",
       "</div>"
      ],
      "text/plain": [
       "  parent_asin      main_category  \\\n",
       "0  B0BMQ8FPCQ     AMAZON FASHION   \n",
       "1  B0BQJ3R35N  Sports & Outdoors   \n",
       "2  B07ZBPMYBR     AMAZON FASHION   \n",
       "3  B07FTG3D2S     AMAZON FASHION   \n",
       "\n",
       "                                               title  \\\n",
       "0  4pcs Back Stand for Nintendo Switch, Back Stan...   \n",
       "1              SOAR NFL LED Gaming Headset and Stand   \n",
       "2         Plus Size Adult Deluxe Donkey Kong Costume   \n",
       "3  Tennis Racket for Nintendo Switch Joy-Con Cont...   \n",
       "\n",
       "                                         description  \\\n",
       "0  Package Includes: 4 x Kickstand Replacement(Bl...   \n",
       "1  The SOAR RGX LED gaming headphones and stand p...   \n",
       "2  Donkey Kong really has the life, doesn't he? O...   \n",
       "3  Product description\\nRuiao Durable & High Qual...   \n",
       "\n",
       "                                            features     brand  \\\n",
       "0  Premium Material: The kickstand replacements a...   Flohayo   \n",
       "1  Imported\\nRGB Color Changing LED Lights on Hea...      SOAR   \n",
       "2  100% Polyester\\nImported\\nNo Closure closure\\n...  Disguise   \n",
       "3  <p>Compatible with Nintendo Switch Game- Mario...     Ruiao   \n",
       "\n",
       "                                 short_query  \n",
       "0  kickstand replacement for Nintendo Switch  \n",
       "1                SOAR NFL LED Gaming Headset  \n",
       "2                        Donkey Kong costume  \n",
       "3          Tennis Racket for Nintendo Switch  "
      ]
     },
     "execution_count": 67,
     "metadata": {},
     "output_type": "execute_result"
    }
   ],
   "source": [
    "%%time\n",
    "df_indexer.search('nintendo switch')"
   ]
  },
  {
   "cell_type": "code",
   "execution_count": null,
   "metadata": {},
   "outputs": [],
   "source": []
  },
  {
   "cell_type": "code",
   "execution_count": null,
   "metadata": {},
   "outputs": [],
   "source": []
  },
  {
   "cell_type": "code",
   "execution_count": null,
   "metadata": {},
   "outputs": [],
   "source": []
  },
  {
   "cell_type": "code",
   "execution_count": null,
   "metadata": {},
   "outputs": [],
   "source": []
  },
  {
   "cell_type": "markdown",
   "metadata": {},
   "source": [
    "## Load inverted index from folder"
   ]
  },
  {
   "cell_type": "code",
   "execution_count": 11,
   "metadata": {
    "ExecuteTime": {
     "end_time": "2025-04-20T21:19:45.963204Z",
     "start_time": "2025-04-20T21:19:45.740222Z"
    }
   },
   "outputs": [],
   "source": [
    "inv_index_from_disk = InvertedIndex.read_inv_index('./inv_index_store')"
   ]
  },
  {
   "cell_type": "code",
   "execution_count": 12,
   "metadata": {
    "ExecuteTime": {
     "end_time": "2025-04-20T21:19:46.564526Z",
     "start_time": "2025-04-20T21:19:46.547108Z"
    }
   },
   "outputs": [
    {
     "data": {
      "text/plain": [
       "dict_keys(['word2pos', 'n_docs_seen', 'folder_store', 'word_freq', 'doc_freq', 'postings_term_pointers'])"
      ]
     },
     "execution_count": 12,
     "metadata": {},
     "output_type": "execute_result"
    }
   ],
   "source": [
    "inv_index_from_disk.__dict__.keys()"
   ]
  },
  {
   "cell_type": "code",
   "execution_count": 13,
   "metadata": {
    "ExecuteTime": {
     "end_time": "2025-04-20T21:19:47.292623Z",
     "start_time": "2025-04-20T21:19:47.163620Z"
    }
   },
   "outputs": [],
   "source": [
    "word_pos_tuples = inv_ind.word2pos.items()\n",
    "words = [x[0] for x in word_pos_tuples]\n",
    "pos = [x[1] for x in word_pos_tuples]\n",
    "\n",
    "inv_ind.write_strings_to_file(\"word2pos_test.bin\", inv_ind.word2pos)"
   ]
  },
  {
   "cell_type": "code",
   "execution_count": 14,
   "metadata": {
    "ExecuteTime": {
     "end_time": "2025-04-20T21:19:48.108491Z",
     "start_time": "2025-04-20T21:19:48.035628Z"
    }
   },
   "outputs": [],
   "source": [
    "vocab_from_file = inv_ind.read_strings_from_file(\"word2pos_test.bin\")"
   ]
  },
  {
   "cell_type": "code",
   "execution_count": 15,
   "metadata": {
    "ExecuteTime": {
     "end_time": "2025-04-20T21:19:48.925948Z",
     "start_time": "2025-04-20T21:19:48.909162Z"
    }
   },
   "outputs": [
    {
     "data": {
      "text/plain": [
       "['from', 'lerxst', 'wam', 'umd', 'edu', 'where', 's', 'my', 'thing', 'subject']"
      ]
     },
     "execution_count": 15,
     "metadata": {},
     "output_type": "execute_result"
    }
   ],
   "source": [
    "vocab_from_file[0:10]"
   ]
  },
  {
   "cell_type": "markdown",
   "metadata": {},
   "source": [
    "## Make queries (single term) from the loaded indexer"
   ]
  },
  {
   "cell_type": "code",
   "execution_count": 16,
   "metadata": {
    "ExecuteTime": {
     "end_time": "2025-04-20T21:20:05.746589Z",
     "start_time": "2025-04-20T21:19:49.715037Z"
    }
   },
   "outputs": [
    {
     "name": "stdout",
     "output_type": "stream",
     "text": [
      "90.5 µs ± 771 ns per loop (mean ± std. dev. of 7 runs, 10,000 loops each)\n"
     ]
    }
   ],
   "source": [
    "%%timeit\n",
    "inv_index_from_disk.get_tuples_for_term_id(12312)"
   ]
  },
  {
   "cell_type": "code",
   "execution_count": 17,
   "metadata": {
    "ExecuteTime": {
     "end_time": "2025-04-20T21:20:08.456665Z",
     "start_time": "2025-04-20T21:20:06.704155Z"
    }
   },
   "outputs": [
    {
     "name": "stdout",
     "output_type": "stream",
     "text": [
      "1.55 ms ± 19.9 µs per loop (mean ± std. dev. of 7 runs, 1,000 loops each)\n"
     ]
    }
   ],
   "source": [
    "%%timeit\n",
    "inv_index_from_disk.get_tuples_for_term_id_slow(12312)"
   ]
  },
  {
   "cell_type": "code",
   "execution_count": 18,
   "metadata": {
    "ExecuteTime": {
     "end_time": "2025-04-20T21:20:09.341936Z",
     "start_time": "2025-04-20T21:20:09.289303Z"
    }
   },
   "outputs": [
    {
     "data": {
      "text/plain": [
       "[(12312, 227, 1),\n",
       " (12312, 954, 1),\n",
       " (12312, 1672, 1),\n",
       " (12312, 2721, 1),\n",
       " (12312, 3568, 1),\n",
       " (12312, 7209, 1)]"
      ]
     },
     "execution_count": 18,
     "metadata": {},
     "output_type": "execute_result"
    }
   ],
   "source": [
    "inv_index_from_disk.get_tuples_for_term_id(12312)"
   ]
  },
  {
   "cell_type": "code",
   "execution_count": 19,
   "metadata": {
    "ExecuteTime": {
     "end_time": "2025-04-20T21:20:10.203699Z",
     "start_time": "2025-04-20T21:20:10.156379Z"
    }
   },
   "outputs": [
    {
     "data": {
      "text/plain": [
       "[(12312, 227, 1),\n",
       " (12312, 954, 1),\n",
       " (12312, 1672, 1),\n",
       " (12312, 2721, 1),\n",
       " (12312, 3568, 1),\n",
       " (12312, 7209, 1)]"
      ]
     },
     "execution_count": 19,
     "metadata": {},
     "output_type": "execute_result"
    }
   ],
   "source": [
    "inv_index_from_disk.get_tuples_for_term_id_slow(12312)"
   ]
  },
  {
   "cell_type": "markdown",
   "metadata": {},
   "source": [
    "We can use a `term` (string) instead of the `term_id` (integer)."
   ]
  },
  {
   "cell_type": "code",
   "execution_count": 20,
   "metadata": {
    "ExecuteTime": {
     "end_time": "2025-04-20T21:20:11.079602Z",
     "start_time": "2025-04-20T21:20:11.039198Z"
    }
   },
   "outputs": [
    {
     "data": {
      "text/plain": [
       "[(23577, 525, 3),\n",
       " (23577, 830, 2),\n",
       " (23577, 1125, 2),\n",
       " (23577, 2138, 1),\n",
       " (23577, 2839, 1),\n",
       " (23577, 3867, 1),\n",
       " (23577, 4922, 1),\n",
       " (23577, 5855, 1),\n",
       " (23577, 6016, 2),\n",
       " (23577, 6470, 1),\n",
       " (23577, 7890, 1),\n",
       " (23577, 8815, 1),\n",
       " (23577, 9023, 2),\n",
       " (23577, 9382, 2),\n",
       " (23577, 9941, 3)]"
      ]
     },
     "execution_count": 20,
     "metadata": {},
     "output_type": "execute_result"
    }
   ],
   "source": [
    "inv_index_from_disk.get_tuples_for_term('nintendo')"
   ]
  },
  {
   "cell_type": "markdown",
   "metadata": {
    "ExecuteTime": {
     "end_time": "2025-04-17T22:07:05.898597Z",
     "start_time": "2025-04-17T22:07:05.882388Z"
    }
   },
   "source": [
    "## Storing list of strings to disk"
   ]
  },
  {
   "cell_type": "code",
   "execution_count": 21,
   "metadata": {
    "ExecuteTime": {
     "end_time": "2025-04-20T22:12:22.415392Z",
     "start_time": "2025-04-20T22:12:22.231328Z"
    }
   },
   "outputs": [],
   "source": [
    "vocab = list(inv_index_from_disk.word2pos.keys())"
   ]
  },
  {
   "cell_type": "code",
   "execution_count": 22,
   "metadata": {
    "ExecuteTime": {
     "end_time": "2025-04-20T22:12:53.219742Z",
     "start_time": "2025-04-20T22:12:45.969002Z"
    }
   },
   "outputs": [
    {
     "name": "stdout",
     "output_type": "stream",
     "text": [
      "35.8 ms ± 153 µs per loop (mean ± std. dev. of 7 runs, 10 loops each)\n"
     ]
    }
   ],
   "source": [
    "%%timeit\n",
    "inv_index_from_disk.write_strings_to_file('test.bin', vocab)"
   ]
  },
  {
   "cell_type": "code",
   "execution_count": 23,
   "metadata": {
    "ExecuteTime": {
     "end_time": "2025-04-20T22:09:59.399326Z",
     "start_time": "2025-04-20T22:09:57.048319Z"
    }
   },
   "outputs": [
    {
     "name": "stdout",
     "output_type": "stream",
     "text": [
      "7.55 ms ± 160 µs per loop (mean ± std. dev. of 7 runs, 100 loops each)\n"
     ]
    }
   ],
   "source": [
    "%%timeit\n",
    "v = inv_index_from_disk.read_strings_from_file('test.bin')"
   ]
  },
  {
   "cell_type": "markdown",
   "metadata": {},
   "source": [
    "## Make queries (multiple terms) from the loaded indexer\n",
    "\n",
    "\n",
    "The notebook \n",
    "\n",
    "```\n",
    "chap_6_processing_boolean_queries.ipynb\n",
    "```\n",
    "\n",
    "has a detailed method to compute intersections between postings that are sorted by `doc_id`."
   ]
  },
  {
   "cell_type": "code",
   "execution_count": 24,
   "metadata": {
    "ExecuteTime": {
     "end_time": "2025-04-20T22:47:58.339742Z",
     "start_time": "2025-04-20T22:47:58.241131Z"
    }
   },
   "outputs": [
    {
     "data": {
      "text/plain": [
       "[[(23577, 525, 3),\n",
       "  (23577, 830, 2),\n",
       "  (23577, 1125, 2),\n",
       "  (23577, 2138, 1),\n",
       "  (23577, 2839, 1),\n",
       "  (23577, 3867, 1),\n",
       "  (23577, 4922, 1),\n",
       "  (23577, 5855, 1),\n",
       "  (23577, 6016, 2),\n",
       "  (23577, 6470, 1),\n",
       "  (23577, 7890, 1),\n",
       "  (23577, 8815, 1),\n",
       "  (23577, 9023, 2),\n",
       "  (23577, 9382, 2),\n",
       "  (23577, 9941, 3)],\n",
       " [(5259, 70, 1),\n",
       "  (5259, 173, 2),\n",
       "  (5259, 525, 2),\n",
       "  (5259, 830, 1),\n",
       "  (5259, 1125, 2),\n",
       "  (5259, 1331, 1),\n",
       "  (5259, 1395, 1),\n",
       "  (5259, 1401, 1),\n",
       "  (5259, 1461, 1),\n",
       "  (5259, 1624, 3),\n",
       "  (5259, 1822, 1),\n",
       "  (5259, 2179, 1),\n",
       "  (5259, 2194, 1),\n",
       "  (5259, 2269, 1),\n",
       "  (5259, 2303, 1),\n",
       "  (5259, 2316, 2),\n",
       "  (5259, 2379, 1),\n",
       "  (5259, 2526, 1),\n",
       "  (5259, 2665, 1),\n",
       "  (5259, 2676, 1),\n",
       "  (5259, 2705, 1),\n",
       "  (5259, 2741, 1),\n",
       "  (5259, 2749, 1),\n",
       "  (5259, 3024, 1),\n",
       "  (5259, 3169, 2),\n",
       "  (5259, 3179, 1),\n",
       "  (5259, 3209, 1),\n",
       "  (5259, 3226, 1),\n",
       "  (5259, 3243, 1),\n",
       "  (5259, 3480, 4),\n",
       "  (5259, 3574, 1),\n",
       "  (5259, 3696, 1),\n",
       "  (5259, 3777, 1),\n",
       "  (5259, 3822, 3),\n",
       "  (5259, 3867, 1),\n",
       "  (5259, 3869, 1),\n",
       "  (5259, 3966, 1),\n",
       "  (5259, 4109, 2),\n",
       "  (5259, 4166, 2),\n",
       "  (5259, 4269, 1),\n",
       "  (5259, 4335, 1),\n",
       "  (5259, 4345, 1),\n",
       "  (5259, 4391, 1),\n",
       "  (5259, 4500, 1),\n",
       "  (5259, 4519, 1),\n",
       "  (5259, 4594, 1),\n",
       "  (5259, 4639, 1),\n",
       "  (5259, 4792, 1),\n",
       "  (5259, 4896, 1),\n",
       "  (5259, 4961, 1),\n",
       "  (5259, 5069, 1),\n",
       "  (5259, 5098, 1),\n",
       "  (5259, 5282, 1),\n",
       "  (5259, 5545, 1),\n",
       "  (5259, 5757, 2),\n",
       "  (5259, 5786, 1),\n",
       "  (5259, 5928, 1),\n",
       "  (5259, 5935, 1),\n",
       "  (5259, 6216, 1),\n",
       "  (5259, 6281, 1),\n",
       "  (5259, 6313, 1),\n",
       "  (5259, 6437, 1),\n",
       "  (5259, 6767, 2),\n",
       "  (5259, 6880, 1),\n",
       "  (5259, 6935, 1),\n",
       "  (5259, 6964, 1),\n",
       "  (5259, 7033, 1),\n",
       "  (5259, 7041, 1),\n",
       "  (5259, 7053, 1),\n",
       "  (5259, 7055, 3),\n",
       "  (5259, 7090, 2),\n",
       "  (5259, 7190, 1),\n",
       "  (5259, 7488, 1),\n",
       "  (5259, 7499, 2),\n",
       "  (5259, 7769, 2),\n",
       "  (5259, 7836, 1),\n",
       "  (5259, 7929, 1),\n",
       "  (5259, 8063, 1),\n",
       "  (5259, 8087, 1),\n",
       "  (5259, 8092, 1),\n",
       "  (5259, 8218, 1),\n",
       "  (5259, 8489, 1),\n",
       "  (5259, 8519, 2),\n",
       "  (5259, 8564, 1),\n",
       "  (5259, 8656, 1),\n",
       "  (5259, 8676, 2),\n",
       "  (5259, 8803, 2),\n",
       "  (5259, 8823, 1),\n",
       "  (5259, 8943, 1),\n",
       "  (5259, 9023, 2),\n",
       "  (5259, 9063, 1),\n",
       "  (5259, 9150, 1),\n",
       "  (5259, 9154, 1),\n",
       "  (5259, 9176, 1),\n",
       "  (5259, 9285, 1),\n",
       "  (5259, 9329, 1),\n",
       "  (5259, 9382, 4),\n",
       "  (5259, 9890, 1),\n",
       "  (5259, 9911, 1),\n",
       "  (5259, 9915, 1),\n",
       "  (5259, 9941, 2),\n",
       "  (5259, 10008, 1),\n",
       "  (5259, 10109, 1),\n",
       "  (5259, 10144, 3),\n",
       "  (5259, 10285, 1),\n",
       "  (5259, 10384, 1),\n",
       "  (5259, 10387, 2),\n",
       "  (5259, 10433, 1),\n",
       "  (5259, 10443, 1),\n",
       "  (5259, 10516, 1),\n",
       "  (5259, 10531, 1),\n",
       "  (5259, 10721, 1),\n",
       "  (5259, 10802, 1),\n",
       "  (5259, 10889, 1),\n",
       "  (5259, 10915, 1),\n",
       "  (5259, 10960, 1),\n",
       "  (5259, 11008, 3),\n",
       "  (5259, 11151, 1),\n",
       "  (5259, 11225, 1)],\n",
       " [(2145, 21, 1),\n",
       "  (2145, 88, 1),\n",
       "  (2145, 323, 1),\n",
       "  (2145, 830, 1),\n",
       "  (2145, 1081, 3),\n",
       "  (2145, 1097, 1),\n",
       "  (2145, 1205, 1),\n",
       "  (2145, 1446, 1),\n",
       "  (2145, 1916, 1),\n",
       "  (2145, 2250, 2),\n",
       "  (2145, 2316, 1),\n",
       "  (2145, 2756, 3),\n",
       "  (2145, 2940, 1),\n",
       "  (2145, 3313, 1),\n",
       "  (2145, 3706, 1),\n",
       "  (2145, 3771, 1),\n",
       "  (2145, 3944, 3),\n",
       "  (2145, 3997, 1),\n",
       "  (2145, 4466, 1),\n",
       "  (2145, 5073, 1),\n",
       "  (2145, 5210, 1),\n",
       "  (2145, 5692, 1),\n",
       "  (2145, 5781, 1),\n",
       "  (2145, 5855, 1),\n",
       "  (2145, 6368, 9),\n",
       "  (2145, 6648, 1),\n",
       "  (2145, 7013, 1),\n",
       "  (2145, 7068, 1),\n",
       "  (2145, 7395, 1),\n",
       "  (2145, 7434, 1),\n",
       "  (2145, 7515, 1),\n",
       "  (2145, 7689, 3),\n",
       "  (2145, 7752, 1),\n",
       "  (2145, 7984, 1),\n",
       "  (2145, 8118, 1),\n",
       "  (2145, 8363, 1),\n",
       "  (2145, 8877, 1),\n",
       "  (2145, 8984, 1),\n",
       "  (2145, 9023, 1),\n",
       "  (2145, 9382, 3),\n",
       "  (2145, 9504, 5),\n",
       "  (2145, 9635, 5),\n",
       "  (2145, 9772, 2),\n",
       "  (2145, 9859, 1),\n",
       "  (2145, 9941, 1),\n",
       "  (2145, 10105, 1),\n",
       "  (2145, 10200, 1),\n",
       "  (2145, 10426, 2),\n",
       "  (2145, 11214, 1)]]"
      ]
     },
     "execution_count": 24,
     "metadata": {},
     "output_type": "execute_result"
    }
   ],
   "source": [
    "query = 'nintendo super mario'\n",
    "inv_index_from_disk.search_postings_for_terms(query)"
   ]
  },
  {
   "cell_type": "code",
   "execution_count": 25,
   "metadata": {
    "ExecuteTime": {
     "end_time": "2025-04-20T22:48:06.224424Z",
     "start_time": "2025-04-20T22:48:01.534912Z"
    }
   },
   "outputs": [
    {
     "name": "stdout",
     "output_type": "stream",
     "text": [
      "268 µs ± 452 ns per loop (mean ± std. dev. of 7 runs, 1,000 loops each)\n"
     ]
    }
   ],
   "source": [
    "%%timeit\n",
    "inv_index_from_disk.search(query)"
   ]
  },
  {
   "cell_type": "code",
   "execution_count": 26,
   "metadata": {
    "ExecuteTime": {
     "end_time": "2025-04-20T22:48:13.368845Z",
     "start_time": "2025-04-20T22:48:13.280451Z"
    }
   },
   "outputs": [
    {
     "data": {
      "text/plain": [
       "[830, 9023]"
      ]
     },
     "execution_count": 26,
     "metadata": {},
     "output_type": "execute_result"
    }
   ],
   "source": [
    "search_results = inv_index_from_disk.search(query)\n",
    "search_results"
   ]
  },
  {
   "cell_type": "code",
   "execution_count": 27,
   "metadata": {
    "ExecuteTime": {
     "end_time": "2025-04-20T22:48:16.783854Z",
     "start_time": "2025-04-20T22:48:16.768079Z"
    },
    "scrolled": true
   },
   "outputs": [
    {
     "name": "stdout",
     "output_type": "stream",
     "text": [
      "From: fields@cis.ohio-state.edu (jonathan david fields)\n",
      "Subject: Misc. Stuff for Sale\n",
      "Article-I.D.: penguin.1po5lqINN749\n",
      "Distribution: usa\n",
      "Organization: The Ohio State University Dept. of Computer and Info. Science\n",
      "Lines: 46\n",
      "NNTP-Posting-Host: penguin.cis.ohio-state.edu\n",
      "\n",
      "\n",
      "Misc. Items for sale:\n",
      "\n",
      "\n",
      "Walkman:  Aiwa Model HS-T30, 1 year old, mint condition, hardly used, \n",
      "          autoreverse, 3 band Equalizer, Super Bass, Dolby Noise Reduction,\n",
      "          AM FM tuner..........Paid $70.......Asking $40+shipping.\n",
      "\n",
      "Mount Plate:  Sony Model CPM-203P, mounting plate for Sony portable CD players\n",
      "for Portable: plugs into car lighter, snaps onto the bottom of any Sony\n",
      "CD Player:    Portable CD player, perfect condition. Will also throw in a \n",
      "\t      cassette adapter in SO SO condition.\n",
      "\t      Paid $45...............Asking $30+shipping.\n",
      "\n",
      "AM FM:\t    Factory Stereo from Toyota with AM FM radio, autoreverse cassette\n",
      "Cassette:   deck, digital tuning, like new condition only in car 6 months,\n",
      "Car Stereo: Asking $60+shipping.\n",
      "\n",
      "Car Speakers:\tSherwood 5 1/4\" two way car speakers, in car for 7 months,\n",
      "5 1/4 inch:\texcellent condition, Paid $65............Asking $40+shipping.\n",
      "\n",
      "4 inch:\t    Factory Speakers from Toyota excellent condition \n",
      "\t    Asking $20+shipping.\n",
      "\n",
      "\n",
      "Nintendo:   Nintendo Game Boy, Light Boy, Tetris, Super Mario Land,  \n",
      "Gameboy:    NFL Football, Castlevania Adventure, Hyper Lode Runner, 4 years\n",
      "+ games:    old\tall in working condition, Asking $70+shipping.\n",
      "Accessories:\n",
      "\n",
      "\n",
      "Whole Internet:\tThe Whole Internet: User's Guide and Catalog by ED Krol,\n",
      "book:\t\tguide to using the internet, where to fing information and \n",
      "\t\tresources.   Paid $30..........Asking $20+shipping.\n",
      "\n",
      "MicroSoft:    Never Used, came with my computer, Asking $ 60+shipping.\n",
      "Visual Basic:\n",
      "\n",
      "MicroSoft:  For Windows, never used, came with my computer, \n",
      "Quick C:    Sells new Student edition for $95............Asking $70+shipping.\n",
      "\n",
      "Please resond to fields@cis.ohio-state.edu\n",
      "\n",
      "\t\t\t\tThanks,\n",
      "\n",
      "\t\t\t\tJonathan D. Fields\n",
      "\n"
     ]
    }
   ],
   "source": [
    "print(docs[search_results[1]])"
   ]
  },
  {
   "cell_type": "markdown",
   "metadata": {},
   "source": [
    "### How can we store metadata in the inverted index and return it when the user calls .search?"
   ]
  },
  {
   "cell_type": "code",
   "execution_count": 28,
   "metadata": {
    "ExecuteTime": {
     "end_time": "2025-04-26T21:55:57.533647Z",
     "start_time": "2025-04-26T21:55:57.095974Z"
    }
   },
   "outputs": [
    {
     "data": {
      "text/plain": [
       "Dataset({\n",
       "    features: ['parent_asin', 'main_category', 'title', 'description', 'features', 'embellished_description', 'brand', 'images', 'short_query', 'long_query'],\n",
       "    num_rows: 205637\n",
       "})"
      ]
     },
     "execution_count": 28,
     "metadata": {},
     "output_type": "execute_result"
    }
   ],
   "source": [
    "from datasets import load_from_disk\n",
    "\n",
    "train_dataset = load_from_disk(\"/Users/dbuchaca/Desktop/text_retrieval_and_search_engines/datasets/amazon_2023_genq/train_dataset\")\n",
    "# If running from QNAP \n",
    "#train_dataset = load_from_disk(\"/Users/davidbuchaca1/Datasets/amazon_2023_genq/train_dataset\")\n",
    "train_dataset"
   ]
  },
  {
   "cell_type": "code",
   "execution_count": 29,
   "metadata": {
    "ExecuteTime": {
     "end_time": "2025-04-26T21:56:03.082584Z",
     "start_time": "2025-04-26T21:56:01.313414Z"
    }
   },
   "outputs": [],
   "source": [
    "df = train_dataset.to_pandas()\n",
    "df.head()\n",
    "df.to_parquet('./dataset.parquet')"
   ]
  },
  {
   "cell_type": "markdown",
   "metadata": {
    "ExecuteTime": {
     "end_time": "2025-04-26T21:59:54.348636Z",
     "start_time": "2025-04-26T21:59:45.540806Z"
    }
   },
   "source": [
    "Read as parquet"
   ]
  },
  {
   "cell_type": "code",
   "execution_count": 30,
   "metadata": {
    "ExecuteTime": {
     "end_time": "2025-04-26T22:03:13.382533Z",
     "start_time": "2025-04-26T22:03:10.905426Z"
    }
   },
   "outputs": [],
   "source": [
    "df_ = pd.read_parquet('dataset.parquet')"
   ]
  },
  {
   "cell_type": "markdown",
   "metadata": {},
   "source": [
    "Storing metadata for documents as an external parquet file such as https://chatgpt.com/c/68080f54-97c0-8008-8c4f-7de93aa43048"
   ]
  },
  {
   "cell_type": "markdown",
   "metadata": {},
   "source": [
    "## Row serialization process for dataframe"
   ]
  },
  {
   "cell_type": "code",
   "execution_count": 32,
   "metadata": {},
   "outputs": [],
   "source": [
    "from lsearch import TableSerializer"
   ]
  },
  {
   "cell_type": "code",
   "execution_count": 33,
   "metadata": {},
   "outputs": [
    {
     "data": {
      "text/plain": [
       "{'parent_asin': 'str',\n",
       " 'main_category': 'str',\n",
       " 'title': 'str',\n",
       " 'description': 'str',\n",
       " 'features': 'str',\n",
       " 'brand': 'str',\n",
       " 'short_query': 'str'}"
      ]
     },
     "execution_count": 33,
     "metadata": {},
     "output_type": "execute_result"
    }
   ],
   "source": [
    "cols = [\"parent_asin\", \n",
    "        \"main_category\",\n",
    "        \"title\",\n",
    "        \"description\",\n",
    "        \"features\", \n",
    "        \"brand\",\n",
    "        \"short_query\"]\n",
    "\n",
    "schema = {col:'str' for col in cols}\n",
    "schema"
   ]
  },
  {
   "cell_type": "code",
   "execution_count": 34,
   "metadata": {},
   "outputs": [],
   "source": [
    "table_ser = TableSerializer(bin_path=\"variable_bin_storage.bin\", \n",
    "                            schema=schema,\n",
    "                            variable_length_columns = cols)"
   ]
  },
  {
   "cell_type": "code",
   "execution_count": 35,
   "metadata": {},
   "outputs": [
    {
     "name": "stdout",
     "output_type": "stream",
     "text": [
      "CPU times: user 23.5 s, sys: 1.83 s, total: 25.3 s\n",
      "Wall time: 25.9 s\n"
     ]
    }
   ],
   "source": [
    "%%time\n",
    "table_ser.serialize(df_)"
   ]
  },
  {
   "cell_type": "code",
   "execution_count": 36,
   "metadata": {},
   "outputs": [
    {
     "name": "stdout",
     "output_type": "stream",
     "text": [
      "1.05 ms ± 109 µs per loop (mean ± std. dev. of 7 runs, 1,000 loops each)\n"
     ]
    }
   ],
   "source": [
    "%%timeit\n",
    "table_ser.read_rows_parallel([0, 520, 40])"
   ]
  },
  {
   "cell_type": "markdown",
   "metadata": {},
   "source": [
    "### Retrieve serialized rows for a query search"
   ]
  },
  {
   "cell_type": "code",
   "execution_count": 37,
   "metadata": {},
   "outputs": [
    {
     "data": {
      "text/plain": [
       "'NHL Molded Auto Emblem Showcase your team spirit with this eye-catching Chrome Finished Auto Emblem 3D Sticker by Rico Industries. This auto emblem 3D sticker measures 5-inches by 5-inches and is decorated with a dynamic and bold team logo. It easily adheres to any vehicle or other hard surface and is made of weather resistant materials. Made in the USA.'"
      ]
     },
     "execution_count": 37,
     "metadata": {},
     "output_type": "execute_result"
    }
   ],
   "source": [
    "(df_['title'] + ' ' + df_['description']).iloc[0]"
   ]
  },
  {
   "cell_type": "code",
   "execution_count": 39,
   "metadata": {},
   "outputs": [
    {
     "name": "stdout",
     "output_type": "stream",
     "text": [
      "InvertedIndex stored in inv_index_store_amazon_2023_genq\n",
      "CPU times: user 49.3 s, sys: 4.15 s, total: 53.4 s\n",
      "Wall time: 55.5 s\n"
     ]
    }
   ],
   "source": [
    "%%time\n",
    "inv_ind = InvertedIndex()\n",
    "inv_ind.index(df_['title'] + ' ' + df_['description'], folder_store=\"inv_index_store_amazon_2023_genq\")"
   ]
  },
  {
   "cell_type": "code",
   "execution_count": 40,
   "metadata": {},
   "outputs": [],
   "source": [
    "query = 'nintendo super mario'"
   ]
  },
  {
   "cell_type": "code",
   "execution_count": 41,
   "metadata": {},
   "outputs": [
    {
     "name": "stdout",
     "output_type": "stream",
     "text": [
      "CPU times: user 11.1 ms, sys: 8.55 ms, total: 19.6 ms\n",
      "Wall time: 27.8 ms\n"
     ]
    },
    {
     "data": {
      "text/html": [
       "<div>\n",
       "<style scoped>\n",
       "    .dataframe tbody tr th:only-of-type {\n",
       "        vertical-align: middle;\n",
       "    }\n",
       "\n",
       "    .dataframe tbody tr th {\n",
       "        vertical-align: top;\n",
       "    }\n",
       "\n",
       "    .dataframe thead th {\n",
       "        text-align: right;\n",
       "    }\n",
       "</style>\n",
       "<table border=\"1\" class=\"dataframe\">\n",
       "  <thead>\n",
       "    <tr style=\"text-align: right;\">\n",
       "      <th></th>\n",
       "      <th>parent_asin</th>\n",
       "      <th>main_category</th>\n",
       "      <th>title</th>\n",
       "      <th>description</th>\n",
       "      <th>features</th>\n",
       "      <th>brand</th>\n",
       "      <th>short_query</th>\n",
       "    </tr>\n",
       "  </thead>\n",
       "  <tbody>\n",
       "    <tr>\n",
       "      <th>0</th>\n",
       "      <td>B08JZMQMNF</td>\n",
       "      <td>AMAZON FASHION</td>\n",
       "      <td>Super Mario Nintendo Rain Boots,Mid Height Sli...</td>\n",
       "      <td>Stomping, hopping, and walking in the rain has...</td>\n",
       "      <td>Rubber sole\\nSUPER MARIO FUN: Super Mario Bros...</td>\n",
       "      <td>SUPER MARIO</td>\n",
       "      <td>Super Mario Rain Boots for Kids</td>\n",
       "    </tr>\n",
       "    <tr>\n",
       "      <th>1</th>\n",
       "      <td>B09TRWSQYG</td>\n",
       "      <td>AMAZON FASHION</td>\n",
       "      <td>Nintendo Super Mario Little &amp; Big Boys Swim Tr...</td>\n",
       "      <td>Little and big kids will love these Super Mari...</td>\n",
       "      <td>100% Polyester\\nImported\\nElastic closure\\nSwi...</td>\n",
       "      <td>Nintendo</td>\n",
       "      <td>Super Mario boys swim trunks</td>\n",
       "    </tr>\n",
       "    <tr>\n",
       "      <th>2</th>\n",
       "      <td>B07ZZLH18W</td>\n",
       "      <td>AMAZON FASHION</td>\n",
       "      <td>Mario Kart Nintendo Boys' Super Mario Drifting...</td>\n",
       "      <td>This tee is a special edition not available an...</td>\n",
       "      <td>100% Cotton\\nPull On closure\\nMachine Wash\\nLO...</td>\n",
       "      <td>Mario Kart</td>\n",
       "      <td>Mario Kart t-shirt for boys</td>\n",
       "    </tr>\n",
       "    <tr>\n",
       "      <th>3</th>\n",
       "      <td>B0BXVXKFLQ</td>\n",
       "      <td>AMAZON FASHION</td>\n",
       "      <td>Nintendo Boys' Super Mario Boxer Briefs Availa...</td>\n",
       "      <td>All packs available are fun and adds a unique ...</td>\n",
       "      <td>92% Polyester, 8% Spandex\\nImported\\nPull On c...</td>\n",
       "      <td>Handcraft Children's Apparel</td>\n",
       "      <td>Nintendo Boxer Briefs</td>\n",
       "    </tr>\n",
       "    <tr>\n",
       "      <th>4</th>\n",
       "      <td>B07HYBLKRD</td>\n",
       "      <td>AMAZON FASHION</td>\n",
       "      <td>Jumping Beans Boys 4-10 Nintendo Super Mario B...</td>\n",
       "      <td>Boys 4-10 Jumping Beans Nintendo Super Mario B...</td>\n",
       "      <td>100% Cotton\\nPull On closure\\nMachine Wash\\nCr...</td>\n",
       "      <td>Jumping Beans</td>\n",
       "      <td>Boys Yoshi Graphic Tee</td>\n",
       "    </tr>\n",
       "    <tr>\n",
       "      <th>5</th>\n",
       "      <td>B06X97PPY7</td>\n",
       "      <td>AMAZON FASHION</td>\n",
       "      <td>Nintendo Boy's Super Mario Groupage T-Shirt</td>\n",
       "      <td>Bring your favorite video game friends everywh...</td>\n",
       "      <td>100% Cotton\\nMade in the USA and Imported\\nNo ...</td>\n",
       "      <td>Fifth Sun</td>\n",
       "      <td>Nintendo Mario T-Shirt</td>\n",
       "    </tr>\n",
       "    <tr>\n",
       "      <th>6</th>\n",
       "      <td>B06X6NLS7J</td>\n",
       "      <td>AMAZON FASHION</td>\n",
       "      <td>Nintendo Girl's More Fun T-Shirt</td>\n",
       "      <td>Join all your favorite friends from the super ...</td>\n",
       "      <td>60% Cotton, 40% Polyester\\nMade in the USA and...</td>\n",
       "      <td>Fifth Sun</td>\n",
       "      <td>Nintendo Girl's T-Shirt</td>\n",
       "    </tr>\n",
       "    <tr>\n",
       "      <th>7</th>\n",
       "      <td>B089B6QFQM</td>\n",
       "      <td>AMAZON FASHION</td>\n",
       "      <td>Nintendo Baseball Cap, Super Mario Adjustable ...</td>\n",
       "      <td>He'll get his jumping powers started with this...</td>\n",
       "      <td>100% Cotton\\nImported\\nAdjustable closure\\nHan...</td>\n",
       "      <td>Nintendo</td>\n",
       "      <td>Nintendo Baseball Cap</td>\n",
       "    </tr>\n",
       "    <tr>\n",
       "      <th>8</th>\n",
       "      <td>B08H9HBT72</td>\n",
       "      <td>AMAZON FASHION</td>\n",
       "      <td>SUPER MARIO Boys' Nintendo 2-Piece Fleece Paja...</td>\n",
       "      <td>To follow safety regulations this item is flam...</td>\n",
       "      <td>100% Polyester\\nImported\\nPull On closure\\nMac...</td>\n",
       "      <td>AME Sleepwear Children's Apparel</td>\n",
       "      <td>Super Mario Boys Pajama Set</td>\n",
       "    </tr>\n",
       "    <tr>\n",
       "      <th>9</th>\n",
       "      <td>B08WPJ6GCH</td>\n",
       "      <td>AMAZON FASHION</td>\n",
       "      <td>Super Mario Brothers Mario &amp; Luigi Nintendo Sa...</td>\n",
       "      <td>Officially Super Mario Brothers Sandals – Boys...</td>\n",
       "      <td>These officially licensed Super Mario Brothers...</td>\n",
       "      <td>Super Mario Bros.</td>\n",
       "      <td>Super Mario Sandals</td>\n",
       "    </tr>\n",
       "    <tr>\n",
       "      <th>10</th>\n",
       "      <td>B07PHV56B5</td>\n",
       "      <td>AMAZON FASHION</td>\n",
       "      <td>Nintende Super Mario Toddler Boy`s Blue Reain ...</td>\n",
       "      <td>Make rainy days more exciting with this cool N...</td>\n",
       "      <td>Vinyl\\nSnap closure\\nHand Wash Only\\n★ WATERPR...</td>\n",
       "      <td>Nintendo</td>\n",
       "      <td>Super Mario rain jacket</td>\n",
       "    </tr>\n",
       "    <tr>\n",
       "      <th>11</th>\n",
       "      <td>B07RBSBC3G</td>\n",
       "      <td>AMAZON FASHION</td>\n",
       "      <td>Controller Gear Unisex-Adult's Super Mario Bow...</td>\n",
       "      <td>Nintendo fans can show their love for their fa...</td>\n",
       "      <td>85% Acrylic, 15% Wool\\nImported\\nSnap closure\\...</td>\n",
       "      <td>Controller Gear</td>\n",
       "      <td>Super Mario Snapback Hat</td>\n",
       "    </tr>\n",
       "    <tr>\n",
       "      <th>12</th>\n",
       "      <td>B0771SY1KM</td>\n",
       "      <td>AMAZON FASHION</td>\n",
       "      <td>Nintendo Super Mario and Luigi Black Cotton Ba...</td>\n",
       "      <td>Nintendo Super Mario and Luigi Black Cotton Ba...</td>\n",
       "      <td>100% Cotton\\nImported\\nHand Wash Only\\nNintend...</td>\n",
       "      <td>Nintendo</td>\n",
       "      <td>Super Mario Baseball Cap</td>\n",
       "    </tr>\n",
       "    <tr>\n",
       "      <th>13</th>\n",
       "      <td>B0892NT2WQ</td>\n",
       "      <td>AMAZON FASHION</td>\n",
       "      <td>SUPER MARIO Nintendo Donkey Kong Yoshi Mario L...</td>\n",
       "      <td>Join Mario and his pals on their newest exciti...</td>\n",
       "      <td>Interlock, 60% Cotton , 40% Polyester\\nImporte...</td>\n",
       "      <td>Bentex Group, Inc.</td>\n",
       "      <td>Mario bodysuits 5 pack</td>\n",
       "    </tr>\n",
       "    <tr>\n",
       "      <th>14</th>\n",
       "      <td>B08KTJKGRQ</td>\n",
       "      <td>AMAZON FASHION</td>\n",
       "      <td>Donkey Kong Nintendo Boys Slipper, Full Body S...</td>\n",
       "      <td>These Donkey Kong Slippers for kids are the pe...</td>\n",
       "      <td>JUST LIKE D.K.: These Donkey Kong Slippers for...</td>\n",
       "      <td>Donkey Kong</td>\n",
       "      <td>Donkey Kong slippers</td>\n",
       "    </tr>\n",
       "    <tr>\n",
       "      <th>15</th>\n",
       "      <td>B08F81X721</td>\n",
       "      <td>AMAZON FASHION</td>\n",
       "      <td>SUPER MARIO Nintendo Luigi Donkey Kong Zip Up ...</td>\n",
       "      <td>Join Luigi as he goes on exciting adventures w...</td>\n",
       "      <td>Soft cozy 100% polyester\\nZipper closure\\nMach...</td>\n",
       "      <td>Dreamwave</td>\n",
       "      <td>Luigi pajama coverall</td>\n",
       "    </tr>\n",
       "    <tr>\n",
       "      <th>16</th>\n",
       "      <td>B084T1S4TD</td>\n",
       "      <td>AMAZON FASHION</td>\n",
       "      <td>Nintendo Mens Video Game Shirt - Mario, Luigi,...</td>\n",
       "      <td>SUPER MARIO:\\nSuper Mario is a Japanese platfo...</td>\n",
       "      <td>100% Cotton\\nPull On closure\\nMachine Wash\\n✔ ...</td>\n",
       "      <td>Nintendo</td>\n",
       "      <td>Nintendo mens graphic tee</td>\n",
       "    </tr>\n",
       "    <tr>\n",
       "      <th>17</th>\n",
       "      <td>B01I5BDI5Y</td>\n",
       "      <td>AMAZON FASHION</td>\n",
       "      <td>Sun-Staches womens Nintendo Super Mario Prince...</td>\n",
       "      <td>Get in the game with Mario and Luigi with thes...</td>\n",
       "      <td>100% Plastic\\nRubber frame\\nNon-Polarized\\nUV ...</td>\n",
       "      <td>Forum Novelties</td>\n",
       "      <td>Princess Peach Sunglasses</td>\n",
       "    </tr>\n",
       "    <tr>\n",
       "      <th>18</th>\n",
       "      <td>B077VBR1CL</td>\n",
       "      <td>AMAZON FASHION</td>\n",
       "      <td>Nintendo Super Mario Yoshi Intro Jump Graphic ...</td>\n",
       "      <td>Save the Mushroom Kingdom and have tons of fun...</td>\n",
       "      <td>Solid colors: 100% Cotton; Heather Grey: 90% C...</td>\n",
       "      <td>Super Mario</td>\n",
       "      <td>Nintendo Super Mario T-Shirt</td>\n",
       "    </tr>\n",
       "    <tr>\n",
       "      <th>19</th>\n",
       "      <td>B07R7MRK88</td>\n",
       "      <td>AMAZON FASHION</td>\n",
       "      <td>Controller Gear Unisex-Adult's Super Mario Pir...</td>\n",
       "      <td>Nintendo fans can show their love for their fa...</td>\n",
       "      <td>85% Acrylic, 15% Wool\\nImported\\nSnap closure\\...</td>\n",
       "      <td>Controller Gear</td>\n",
       "      <td>Super Mario hat</td>\n",
       "    </tr>\n",
       "    <tr>\n",
       "      <th>20</th>\n",
       "      <td>B07P25YMKT</td>\n",
       "      <td>AMAZON FASHION</td>\n",
       "      <td>Nintendo Super Mario Wario Character Flex Fit ...</td>\n",
       "      <td>Nintendo Super Mario Wario Character Flex Fit ...</td>\n",
       "      <td>100% Cotton\\nElastic closure\\nHand Wash Only</td>\n",
       "      <td>Bioworld</td>\n",
       "      <td>Wario Yellow Baseball Hat</td>\n",
       "    </tr>\n",
       "    <tr>\n",
       "      <th>21</th>\n",
       "      <td>B08S43N8G6</td>\n",
       "      <td>AMAZON FASHION</td>\n",
       "      <td>SUPER MARIO Mario Yoshi Baby Boys One-Piece Ro...</td>\n",
       "      <td>Join Mario and his pals on their newest and mo...</td>\n",
       "      <td>60% Cotton, 40% Polyester\\nSnap closure\\nMachi...</td>\n",
       "      <td>Bentex Group, Inc.</td>\n",
       "      <td>Super Mario Romper Set</td>\n",
       "    </tr>\n",
       "    <tr>\n",
       "      <th>22</th>\n",
       "      <td>B077WCF183</td>\n",
       "      <td>AMAZON FASHION</td>\n",
       "      <td>Nintendo Super Mario Retro Character Line-Up T...</td>\n",
       "      <td>Save the Mushroom Kingdom and have tons of fun...</td>\n",
       "      <td>Solid colors: 100% Cotton; Heather Grey: 90% C...</td>\n",
       "      <td>Super Mario</td>\n",
       "      <td>Super Mario T-Shirt</td>\n",
       "    </tr>\n",
       "    <tr>\n",
       "      <th>23</th>\n",
       "      <td>B0892SZP4P</td>\n",
       "      <td>Unknown</td>\n",
       "      <td>SUPER MARIO Nintendo Baby Zip Up Cosplay Costu...</td>\n",
       "      <td>Join Mario as he saves Princess Peach from Bow...</td>\n",
       "      <td>60% Cotton, 40% Polyester\\nImported\\nZipper cl...</td>\n",
       "      <td>SUPER MARIO</td>\n",
       "      <td>Super Mario baby costume</td>\n",
       "    </tr>\n",
       "    <tr>\n",
       "      <th>24</th>\n",
       "      <td>B083KP6XR4</td>\n",
       "      <td>AMAZON FASHION</td>\n",
       "      <td>SUPER MARIO Nintendo Sandals, Mario and Luigi ...</td>\n",
       "      <td>Nintendo Super Mario Brothers Mario &amp; Luigi ar...</td>\n",
       "      <td>SUPER MARIO FUN: Nintendo Super Mario Brothers...</td>\n",
       "      <td>SUPER MARIO</td>\n",
       "      <td>Super Mario slide sandals for boys</td>\n",
       "    </tr>\n",
       "    <tr>\n",
       "      <th>25</th>\n",
       "      <td>B077W3V1G9</td>\n",
       "      <td>Unknown</td>\n",
       "      <td>Nintendo Super Mario Brothers '85 Vintage Star...</td>\n",
       "      <td>Save the Mushroom Kingdom and have tons of fun...</td>\n",
       "      <td>Solid colors: 100% Cotton; Heather Grey: 90% C...</td>\n",
       "      <td>Super Mario</td>\n",
       "      <td>Nintendo Super Mario T-Shirt</td>\n",
       "    </tr>\n",
       "    <tr>\n",
       "      <th>26</th>\n",
       "      <td>B07V1XQBKF</td>\n",
       "      <td>AMAZON FASHION</td>\n",
       "      <td>Crocs Kids' Super Mario Light Up Clog | Light ...</td>\n",
       "      <td>If you have a little gamer or Nintendo fan in ...</td>\n",
       "      <td>100% Croslite\\nImported\\nEthylene Vinyl Acetat...</td>\n",
       "      <td>Crocs</td>\n",
       "      <td>Crocs Super Mario Light Up Clog</td>\n",
       "    </tr>\n",
       "    <tr>\n",
       "      <th>27</th>\n",
       "      <td>B07VCTHTWZ</td>\n",
       "      <td>AMAZON FASHION</td>\n",
       "      <td>Super Mario Slippers for Kids, Mario and Luigi...</td>\n",
       "      <td>Super Mario Bros Mario and Luigi are back! Enj...</td>\n",
       "      <td>Officially Licensed: Your boys will love these...</td>\n",
       "      <td>Super Mario</td>\n",
       "      <td>Super Mario Slippers</td>\n",
       "    </tr>\n",
       "    <tr>\n",
       "      <th>28</th>\n",
       "      <td>B088KWYJXR</td>\n",
       "      <td>AMAZON FASHION</td>\n",
       "      <td>Men's Nintendo Ugly Christmas Mario Jump Star ...</td>\n",
       "      <td>The holiday spirit just hit the Mushroom Kingd...</td>\n",
       "      <td>50% Polyester, 50% Cotton\\nPull On closure\\nMa...</td>\n",
       "      <td>Fifth Sun</td>\n",
       "      <td>Nintendo Mario hoodie</td>\n",
       "    </tr>\n",
       "    <tr>\n",
       "      <th>29</th>\n",
       "      <td>B07V2B87BF</td>\n",
       "      <td>AMAZON FASHION</td>\n",
       "      <td>Jumping Beans Boys 4-12 Nintendo Super Mario B...</td>\n",
       "      <td>Your little Mario fan will love this retro tee...</td>\n",
       "      <td>Polyester,Cotton\\nPull On closure\\nMachine Was...</td>\n",
       "      <td>Jumping Beans</td>\n",
       "      <td>Super Mario graphic tee</td>\n",
       "    </tr>\n",
       "    <tr>\n",
       "      <th>30</th>\n",
       "      <td>B07QSWGPJ7</td>\n",
       "      <td>AMAZON FASHION</td>\n",
       "      <td>Nintendo Super Mario Boys Baseball Cap Hat Age...</td>\n",
       "      <td>Your little one will feel brave like a Hero we...</td>\n",
       "      <td>100% Cotton\\nSnap closure\\nHand Wash Only\\nSUP...</td>\n",
       "      <td>Nintendo</td>\n",
       "      <td>Super Mario Baseball Cap</td>\n",
       "    </tr>\n",
       "    <tr>\n",
       "      <th>31</th>\n",
       "      <td>B084SZJ97S</td>\n",
       "      <td>AMAZON FASHION</td>\n",
       "      <td>Nintendo Mens Video Gameboy Shirt - Mario, Lui...</td>\n",
       "      <td>SUPER MARIO:\\nSuper Mario is a Japanese platfo...</td>\n",
       "      <td>100% Cotton\\nPull On closure\\nMachine Wash\\n✔ ...</td>\n",
       "      <td>Nintendo</td>\n",
       "      <td>Nintendo vintage t-shirt</td>\n",
       "    </tr>\n",
       "    <tr>\n",
       "      <th>32</th>\n",
       "      <td>B0BXVXVSK5</td>\n",
       "      <td>AMAZON FASHION</td>\n",
       "      <td>Nintendo Girls' Super Mario 7-Pack 100% Combed...</td>\n",
       "      <td>Your gamer girl can now play along with Ninten...</td>\n",
       "      <td>100% Combed Cotton\\nImported\\nPull On closure\\...</td>\n",
       "      <td>Handcraft Children's Apparel</td>\n",
       "      <td>Super Mario Girls' Underwear</td>\n",
       "    </tr>\n",
       "    <tr>\n",
       "      <th>33</th>\n",
       "      <td>B0828M8KHK</td>\n",
       "      <td>AMAZON FASHION</td>\n",
       "      <td>Nintendo Super Mario T-Shirts for Boys, Mario ...</td>\n",
       "      <td>This tee is a special edition not available an...</td>\n",
       "      <td>100% Cotton\\nPull On closure\\nMachine Wash\\nSA...</td>\n",
       "      <td>Nintendo</td>\n",
       "      <td>Nintendo Super Mario T-shirt for boys</td>\n",
       "    </tr>\n",
       "    <tr>\n",
       "      <th>34</th>\n",
       "      <td>B0828NMVL6</td>\n",
       "      <td>AMAZON FASHION</td>\n",
       "      <td>Nintendo Super Mario Bros Clothing Boys Super ...</td>\n",
       "      <td>This hoodie is a special edition not available...</td>\n",
       "      <td>60/40 Cotton/Poly\\nMachine Wash\\nLONG LASTING ...</td>\n",
       "      <td>Nintendo</td>\n",
       "      <td>Nintendo Super Mario Hoodie for Boys</td>\n",
       "    </tr>\n",
       "    <tr>\n",
       "      <th>35</th>\n",
       "      <td>B076TZDX23</td>\n",
       "      <td>AMAZON FASHION</td>\n",
       "      <td>Men's Nintendo Super Mario Rainbow Stripes T-S...</td>\n",
       "      <td>You'll find the Nintendo Super Mario Rainbow S...</td>\n",
       "      <td>50% Polyester, 50% Cotton\\nPull On closure\\nMa...</td>\n",
       "      <td>Fifth Sun</td>\n",
       "      <td>Nintendo Super Mario T-Shirt</td>\n",
       "    </tr>\n",
       "    <tr>\n",
       "      <th>36</th>\n",
       "      <td>B0892RXYLC</td>\n",
       "      <td>AMAZON FASHION</td>\n",
       "      <td>Nintendo Boys' Super Multipacks of Briefs &amp; Bo...</td>\n",
       "      <td>All packs available are fun and adds a unique ...</td>\n",
       "      <td>100% Combed Cotton\\nImported\\nPull On closure\\...</td>\n",
       "      <td>Handcraft Children's Apparel</td>\n",
       "      <td>Nintendo boys underwear</td>\n",
       "    </tr>\n",
       "    <tr>\n",
       "      <th>37</th>\n",
       "      <td>B07R6JVQKV</td>\n",
       "      <td>AMAZON FASHION</td>\n",
       "      <td>Controller Gear Unisex-Adult's Super Mario Pea...</td>\n",
       "      <td>Nintendo fans can show their love for their fa...</td>\n",
       "      <td>100% Cotton\\nImported\\nAdjustable closure\\nHan...</td>\n",
       "      <td>Controller Gear</td>\n",
       "      <td>Super Mario Peach Dad Hat</td>\n",
       "    </tr>\n",
       "    <tr>\n",
       "      <th>38</th>\n",
       "      <td>B08N8VV6ZY</td>\n",
       "      <td>AMAZON FASHION</td>\n",
       "      <td>SUPER MARIO Nintendo 3 Pack Bodysuits Luigi Bo...</td>\n",
       "      <td>Dress your little gamer in this adorable Ninte...</td>\n",
       "      <td>60% Cotton, 40% Polyester\\nImported\\nSnap clos...</td>\n",
       "      <td>SUPER MARIO</td>\n",
       "      <td>Super Mario bodysuit set</td>\n",
       "    </tr>\n",
       "    <tr>\n",
       "      <th>39</th>\n",
       "      <td>B07Y1T4X5W</td>\n",
       "      <td>AMAZON FASHION</td>\n",
       "      <td>Nintendo Boys' Winter Hat, Scarf, and Kids Glo...</td>\n",
       "      <td>HIGH-QUALITY MATERIAL: The Kids Beanie Hat Sca...</td>\n",
       "      <td>Acrylic Knit with Soft Plush Lining\\nImported\\...</td>\n",
       "      <td>Nintendo</td>\n",
       "      <td>Super Mario winter set</td>\n",
       "    </tr>\n",
       "    <tr>\n",
       "      <th>40</th>\n",
       "      <td>B07G2SDMPS</td>\n",
       "      <td>AMAZON FASHION</td>\n",
       "      <td>SUPER MARIO Brothers Mario and Luigi Slippers ...</td>\n",
       "      <td>Super Mario Bros Mario and Luigi are back! Enj...</td>\n",
       "      <td>MIX &amp; MATCH FUN: Mario on one side, Luigi on t...</td>\n",
       "      <td>SUPER MARIO</td>\n",
       "      <td>Super Mario slippers</td>\n",
       "    </tr>\n",
       "    <tr>\n",
       "      <th>41</th>\n",
       "      <td>B07584M2FY</td>\n",
       "      <td>AMAZON FASHION</td>\n",
       "      <td>Bioworld Nintendo Super Mario Cozy Mario Logo ...</td>\n",
       "      <td>Here we go! Slip your feet into these super so...</td>\n",
       "      <td>100% Spandex\\nMachine Wash\\nHere we go! Slip y...</td>\n",
       "      <td>Bioworld</td>\n",
       "      <td>Mario Crew Socks</td>\n",
       "    </tr>\n",
       "    <tr>\n",
       "      <th>42</th>\n",
       "      <td>B07SJRGNLN</td>\n",
       "      <td>AMAZON FASHION</td>\n",
       "      <td>Nintendo boys Nintendo Toddler Hat for Boyâ€™s...</td>\n",
       "      <td>He'll get his jumping powers started with this...</td>\n",
       "      <td>100% Cotton\\nImported\\nAdjustable closure\\nHan...</td>\n",
       "      <td>Nintendo</td>\n",
       "      <td>Super Mario Baseball Cap</td>\n",
       "    </tr>\n",
       "    <tr>\n",
       "      <th>43</th>\n",
       "      <td>B08GS66WCW</td>\n",
       "      <td>AMAZON FASHION</td>\n",
       "      <td>Nintendo Boy's Super Mario Cold Weather Hat an...</td>\n",
       "      <td>Get your little gamers ready for action in thi...</td>\n",
       "      <td>Hand Wash Only\\n2 Piece Set Includes Beanie Ha...</td>\n",
       "      <td>Nintendo</td>\n",
       "      <td>Super Mario hat and glove set</td>\n",
       "    </tr>\n",
       "    <tr>\n",
       "      <th>44</th>\n",
       "      <td>B07PPVT6BY</td>\n",
       "      <td>AMAZON FASHION</td>\n",
       "      <td>Nintendo Kids Boys` Super Mario Character Prin...</td>\n",
       "      <td>Walking around in the rain was never this fun!...</td>\n",
       "      <td>Rubber sole\\n★ WATERPROOF - These 100% rubber ...</td>\n",
       "      <td>Nintendo</td>\n",
       "      <td>Super Mario rain boots</td>\n",
       "    </tr>\n",
       "    <tr>\n",
       "      <th>45</th>\n",
       "      <td>B07V1353F7</td>\n",
       "      <td>AMAZON FASHION</td>\n",
       "      <td>Crocs unisex-child Fun Lab Super Mario Lights ...</td>\n",
       "      <td>If you have a little gamer or Nintendo fan in ...</td>\n",
       "      <td>100% Croslite\\nImported\\nEthylene Vinyl Acetat...</td>\n",
       "      <td>Crocs</td>\n",
       "      <td>Super Mario Crocs</td>\n",
       "    </tr>\n",
       "    <tr>\n",
       "      <th>46</th>\n",
       "      <td>B08NCZ86BX</td>\n",
       "      <td>AMAZON FASHION</td>\n",
       "      <td>Super Mario Boys Pajamas</td>\n",
       "      <td>Boys Super Mario Pajamas. Get your little game...</td>\n",
       "      <td>100% Polyester\\nPull On closure\\nKids Super Ma...</td>\n",
       "      <td>SUPER MARIO</td>\n",
       "      <td>Super Mario Boys Pajamas</td>\n",
       "    </tr>\n",
       "  </tbody>\n",
       "</table>\n",
       "</div>"
      ],
      "text/plain": [
       "   parent_asin   main_category  \\\n",
       "0   B08JZMQMNF  AMAZON FASHION   \n",
       "1   B09TRWSQYG  AMAZON FASHION   \n",
       "2   B07ZZLH18W  AMAZON FASHION   \n",
       "3   B0BXVXKFLQ  AMAZON FASHION   \n",
       "4   B07HYBLKRD  AMAZON FASHION   \n",
       "5   B06X97PPY7  AMAZON FASHION   \n",
       "6   B06X6NLS7J  AMAZON FASHION   \n",
       "7   B089B6QFQM  AMAZON FASHION   \n",
       "8   B08H9HBT72  AMAZON FASHION   \n",
       "9   B08WPJ6GCH  AMAZON FASHION   \n",
       "10  B07PHV56B5  AMAZON FASHION   \n",
       "11  B07RBSBC3G  AMAZON FASHION   \n",
       "12  B0771SY1KM  AMAZON FASHION   \n",
       "13  B0892NT2WQ  AMAZON FASHION   \n",
       "14  B08KTJKGRQ  AMAZON FASHION   \n",
       "15  B08F81X721  AMAZON FASHION   \n",
       "16  B084T1S4TD  AMAZON FASHION   \n",
       "17  B01I5BDI5Y  AMAZON FASHION   \n",
       "18  B077VBR1CL  AMAZON FASHION   \n",
       "19  B07R7MRK88  AMAZON FASHION   \n",
       "20  B07P25YMKT  AMAZON FASHION   \n",
       "21  B08S43N8G6  AMAZON FASHION   \n",
       "22  B077WCF183  AMAZON FASHION   \n",
       "23  B0892SZP4P         Unknown   \n",
       "24  B083KP6XR4  AMAZON FASHION   \n",
       "25  B077W3V1G9         Unknown   \n",
       "26  B07V1XQBKF  AMAZON FASHION   \n",
       "27  B07VCTHTWZ  AMAZON FASHION   \n",
       "28  B088KWYJXR  AMAZON FASHION   \n",
       "29  B07V2B87BF  AMAZON FASHION   \n",
       "30  B07QSWGPJ7  AMAZON FASHION   \n",
       "31  B084SZJ97S  AMAZON FASHION   \n",
       "32  B0BXVXVSK5  AMAZON FASHION   \n",
       "33  B0828M8KHK  AMAZON FASHION   \n",
       "34  B0828NMVL6  AMAZON FASHION   \n",
       "35  B076TZDX23  AMAZON FASHION   \n",
       "36  B0892RXYLC  AMAZON FASHION   \n",
       "37  B07R6JVQKV  AMAZON FASHION   \n",
       "38  B08N8VV6ZY  AMAZON FASHION   \n",
       "39  B07Y1T4X5W  AMAZON FASHION   \n",
       "40  B07G2SDMPS  AMAZON FASHION   \n",
       "41  B07584M2FY  AMAZON FASHION   \n",
       "42  B07SJRGNLN  AMAZON FASHION   \n",
       "43  B08GS66WCW  AMAZON FASHION   \n",
       "44  B07PPVT6BY  AMAZON FASHION   \n",
       "45  B07V1353F7  AMAZON FASHION   \n",
       "46  B08NCZ86BX  AMAZON FASHION   \n",
       "\n",
       "                                                title  \\\n",
       "0   Super Mario Nintendo Rain Boots,Mid Height Sli...   \n",
       "1   Nintendo Super Mario Little & Big Boys Swim Tr...   \n",
       "2   Mario Kart Nintendo Boys' Super Mario Drifting...   \n",
       "3   Nintendo Boys' Super Mario Boxer Briefs Availa...   \n",
       "4   Jumping Beans Boys 4-10 Nintendo Super Mario B...   \n",
       "5         Nintendo Boy's Super Mario Groupage T-Shirt   \n",
       "6                    Nintendo Girl's More Fun T-Shirt   \n",
       "7   Nintendo Baseball Cap, Super Mario Adjustable ...   \n",
       "8   SUPER MARIO Boys' Nintendo 2-Piece Fleece Paja...   \n",
       "9   Super Mario Brothers Mario & Luigi Nintendo Sa...   \n",
       "10  Nintende Super Mario Toddler Boy`s Blue Reain ...   \n",
       "11  Controller Gear Unisex-Adult's Super Mario Bow...   \n",
       "12  Nintendo Super Mario and Luigi Black Cotton Ba...   \n",
       "13  SUPER MARIO Nintendo Donkey Kong Yoshi Mario L...   \n",
       "14  Donkey Kong Nintendo Boys Slipper, Full Body S...   \n",
       "15  SUPER MARIO Nintendo Luigi Donkey Kong Zip Up ...   \n",
       "16  Nintendo Mens Video Game Shirt - Mario, Luigi,...   \n",
       "17  Sun-Staches womens Nintendo Super Mario Prince...   \n",
       "18  Nintendo Super Mario Yoshi Intro Jump Graphic ...   \n",
       "19  Controller Gear Unisex-Adult's Super Mario Pir...   \n",
       "20  Nintendo Super Mario Wario Character Flex Fit ...   \n",
       "21  SUPER MARIO Mario Yoshi Baby Boys One-Piece Ro...   \n",
       "22  Nintendo Super Mario Retro Character Line-Up T...   \n",
       "23  SUPER MARIO Nintendo Baby Zip Up Cosplay Costu...   \n",
       "24  SUPER MARIO Nintendo Sandals, Mario and Luigi ...   \n",
       "25  Nintendo Super Mario Brothers '85 Vintage Star...   \n",
       "26  Crocs Kids' Super Mario Light Up Clog | Light ...   \n",
       "27  Super Mario Slippers for Kids, Mario and Luigi...   \n",
       "28  Men's Nintendo Ugly Christmas Mario Jump Star ...   \n",
       "29  Jumping Beans Boys 4-12 Nintendo Super Mario B...   \n",
       "30  Nintendo Super Mario Boys Baseball Cap Hat Age...   \n",
       "31  Nintendo Mens Video Gameboy Shirt - Mario, Lui...   \n",
       "32  Nintendo Girls' Super Mario 7-Pack 100% Combed...   \n",
       "33  Nintendo Super Mario T-Shirts for Boys, Mario ...   \n",
       "34  Nintendo Super Mario Bros Clothing Boys Super ...   \n",
       "35  Men's Nintendo Super Mario Rainbow Stripes T-S...   \n",
       "36  Nintendo Boys' Super Multipacks of Briefs & Bo...   \n",
       "37  Controller Gear Unisex-Adult's Super Mario Pea...   \n",
       "38  SUPER MARIO Nintendo 3 Pack Bodysuits Luigi Bo...   \n",
       "39  Nintendo Boys' Winter Hat, Scarf, and Kids Glo...   \n",
       "40  SUPER MARIO Brothers Mario and Luigi Slippers ...   \n",
       "41  Bioworld Nintendo Super Mario Cozy Mario Logo ...   \n",
       "42  Nintendo boys Nintendo Toddler Hat for Boyâ€™s...   \n",
       "43  Nintendo Boy's Super Mario Cold Weather Hat an...   \n",
       "44  Nintendo Kids Boys` Super Mario Character Prin...   \n",
       "45  Crocs unisex-child Fun Lab Super Mario Lights ...   \n",
       "46                           Super Mario Boys Pajamas   \n",
       "\n",
       "                                          description  \\\n",
       "0   Stomping, hopping, and walking in the rain has...   \n",
       "1   Little and big kids will love these Super Mari...   \n",
       "2   This tee is a special edition not available an...   \n",
       "3   All packs available are fun and adds a unique ...   \n",
       "4   Boys 4-10 Jumping Beans Nintendo Super Mario B...   \n",
       "5   Bring your favorite video game friends everywh...   \n",
       "6   Join all your favorite friends from the super ...   \n",
       "7   He'll get his jumping powers started with this...   \n",
       "8   To follow safety regulations this item is flam...   \n",
       "9   Officially Super Mario Brothers Sandals – Boys...   \n",
       "10  Make rainy days more exciting with this cool N...   \n",
       "11  Nintendo fans can show their love for their fa...   \n",
       "12  Nintendo Super Mario and Luigi Black Cotton Ba...   \n",
       "13  Join Mario and his pals on their newest exciti...   \n",
       "14  These Donkey Kong Slippers for kids are the pe...   \n",
       "15  Join Luigi as he goes on exciting adventures w...   \n",
       "16  SUPER MARIO:\\nSuper Mario is a Japanese platfo...   \n",
       "17  Get in the game with Mario and Luigi with thes...   \n",
       "18  Save the Mushroom Kingdom and have tons of fun...   \n",
       "19  Nintendo fans can show their love for their fa...   \n",
       "20  Nintendo Super Mario Wario Character Flex Fit ...   \n",
       "21  Join Mario and his pals on their newest and mo...   \n",
       "22  Save the Mushroom Kingdom and have tons of fun...   \n",
       "23  Join Mario as he saves Princess Peach from Bow...   \n",
       "24  Nintendo Super Mario Brothers Mario & Luigi ar...   \n",
       "25  Save the Mushroom Kingdom and have tons of fun...   \n",
       "26  If you have a little gamer or Nintendo fan in ...   \n",
       "27  Super Mario Bros Mario and Luigi are back! Enj...   \n",
       "28  The holiday spirit just hit the Mushroom Kingd...   \n",
       "29  Your little Mario fan will love this retro tee...   \n",
       "30  Your little one will feel brave like a Hero we...   \n",
       "31  SUPER MARIO:\\nSuper Mario is a Japanese platfo...   \n",
       "32  Your gamer girl can now play along with Ninten...   \n",
       "33  This tee is a special edition not available an...   \n",
       "34  This hoodie is a special edition not available...   \n",
       "35  You'll find the Nintendo Super Mario Rainbow S...   \n",
       "36  All packs available are fun and adds a unique ...   \n",
       "37  Nintendo fans can show their love for their fa...   \n",
       "38  Dress your little gamer in this adorable Ninte...   \n",
       "39  HIGH-QUALITY MATERIAL: The Kids Beanie Hat Sca...   \n",
       "40  Super Mario Bros Mario and Luigi are back! Enj...   \n",
       "41  Here we go! Slip your feet into these super so...   \n",
       "42  He'll get his jumping powers started with this...   \n",
       "43  Get your little gamers ready for action in thi...   \n",
       "44  Walking around in the rain was never this fun!...   \n",
       "45  If you have a little gamer or Nintendo fan in ...   \n",
       "46  Boys Super Mario Pajamas. Get your little game...   \n",
       "\n",
       "                                             features  \\\n",
       "0   Rubber sole\\nSUPER MARIO FUN: Super Mario Bros...   \n",
       "1   100% Polyester\\nImported\\nElastic closure\\nSwi...   \n",
       "2   100% Cotton\\nPull On closure\\nMachine Wash\\nLO...   \n",
       "3   92% Polyester, 8% Spandex\\nImported\\nPull On c...   \n",
       "4   100% Cotton\\nPull On closure\\nMachine Wash\\nCr...   \n",
       "5   100% Cotton\\nMade in the USA and Imported\\nNo ...   \n",
       "6   60% Cotton, 40% Polyester\\nMade in the USA and...   \n",
       "7   100% Cotton\\nImported\\nAdjustable closure\\nHan...   \n",
       "8   100% Polyester\\nImported\\nPull On closure\\nMac...   \n",
       "9   These officially licensed Super Mario Brothers...   \n",
       "10  Vinyl\\nSnap closure\\nHand Wash Only\\n★ WATERPR...   \n",
       "11  85% Acrylic, 15% Wool\\nImported\\nSnap closure\\...   \n",
       "12  100% Cotton\\nImported\\nHand Wash Only\\nNintend...   \n",
       "13  Interlock, 60% Cotton , 40% Polyester\\nImporte...   \n",
       "14  JUST LIKE D.K.: These Donkey Kong Slippers for...   \n",
       "15  Soft cozy 100% polyester\\nZipper closure\\nMach...   \n",
       "16  100% Cotton\\nPull On closure\\nMachine Wash\\n✔ ...   \n",
       "17  100% Plastic\\nRubber frame\\nNon-Polarized\\nUV ...   \n",
       "18  Solid colors: 100% Cotton; Heather Grey: 90% C...   \n",
       "19  85% Acrylic, 15% Wool\\nImported\\nSnap closure\\...   \n",
       "20       100% Cotton\\nElastic closure\\nHand Wash Only   \n",
       "21  60% Cotton, 40% Polyester\\nSnap closure\\nMachi...   \n",
       "22  Solid colors: 100% Cotton; Heather Grey: 90% C...   \n",
       "23  60% Cotton, 40% Polyester\\nImported\\nZipper cl...   \n",
       "24  SUPER MARIO FUN: Nintendo Super Mario Brothers...   \n",
       "25  Solid colors: 100% Cotton; Heather Grey: 90% C...   \n",
       "26  100% Croslite\\nImported\\nEthylene Vinyl Acetat...   \n",
       "27  Officially Licensed: Your boys will love these...   \n",
       "28  50% Polyester, 50% Cotton\\nPull On closure\\nMa...   \n",
       "29  Polyester,Cotton\\nPull On closure\\nMachine Was...   \n",
       "30  100% Cotton\\nSnap closure\\nHand Wash Only\\nSUP...   \n",
       "31  100% Cotton\\nPull On closure\\nMachine Wash\\n✔ ...   \n",
       "32  100% Combed Cotton\\nImported\\nPull On closure\\...   \n",
       "33  100% Cotton\\nPull On closure\\nMachine Wash\\nSA...   \n",
       "34  60/40 Cotton/Poly\\nMachine Wash\\nLONG LASTING ...   \n",
       "35  50% Polyester, 50% Cotton\\nPull On closure\\nMa...   \n",
       "36  100% Combed Cotton\\nImported\\nPull On closure\\...   \n",
       "37  100% Cotton\\nImported\\nAdjustable closure\\nHan...   \n",
       "38  60% Cotton, 40% Polyester\\nImported\\nSnap clos...   \n",
       "39  Acrylic Knit with Soft Plush Lining\\nImported\\...   \n",
       "40  MIX & MATCH FUN: Mario on one side, Luigi on t...   \n",
       "41  100% Spandex\\nMachine Wash\\nHere we go! Slip y...   \n",
       "42  100% Cotton\\nImported\\nAdjustable closure\\nHan...   \n",
       "43  Hand Wash Only\\n2 Piece Set Includes Beanie Ha...   \n",
       "44  Rubber sole\\n★ WATERPROOF - These 100% rubber ...   \n",
       "45  100% Croslite\\nImported\\nEthylene Vinyl Acetat...   \n",
       "46  100% Polyester\\nPull On closure\\nKids Super Ma...   \n",
       "\n",
       "                               brand                            short_query  \n",
       "0                        SUPER MARIO        Super Mario Rain Boots for Kids  \n",
       "1                           Nintendo           Super Mario boys swim trunks  \n",
       "2                         Mario Kart            Mario Kart t-shirt for boys  \n",
       "3       Handcraft Children's Apparel                  Nintendo Boxer Briefs  \n",
       "4                      Jumping Beans                 Boys Yoshi Graphic Tee  \n",
       "5                          Fifth Sun                 Nintendo Mario T-Shirt  \n",
       "6                          Fifth Sun                Nintendo Girl's T-Shirt  \n",
       "7                           Nintendo                  Nintendo Baseball Cap  \n",
       "8   AME Sleepwear Children's Apparel            Super Mario Boys Pajama Set  \n",
       "9                  Super Mario Bros.                    Super Mario Sandals  \n",
       "10                          Nintendo                Super Mario rain jacket  \n",
       "11                   Controller Gear               Super Mario Snapback Hat  \n",
       "12                          Nintendo               Super Mario Baseball Cap  \n",
       "13                Bentex Group, Inc.                 Mario bodysuits 5 pack  \n",
       "14                       Donkey Kong                   Donkey Kong slippers  \n",
       "15                         Dreamwave                  Luigi pajama coverall  \n",
       "16                          Nintendo              Nintendo mens graphic tee  \n",
       "17                   Forum Novelties              Princess Peach Sunglasses  \n",
       "18                       Super Mario           Nintendo Super Mario T-Shirt  \n",
       "19                   Controller Gear                        Super Mario hat  \n",
       "20                          Bioworld              Wario Yellow Baseball Hat  \n",
       "21                Bentex Group, Inc.                 Super Mario Romper Set  \n",
       "22                       Super Mario                    Super Mario T-Shirt  \n",
       "23                       SUPER MARIO               Super Mario baby costume  \n",
       "24                       SUPER MARIO     Super Mario slide sandals for boys  \n",
       "25                       Super Mario           Nintendo Super Mario T-Shirt  \n",
       "26                             Crocs        Crocs Super Mario Light Up Clog  \n",
       "27                       Super Mario                   Super Mario Slippers  \n",
       "28                         Fifth Sun                  Nintendo Mario hoodie  \n",
       "29                     Jumping Beans                Super Mario graphic tee  \n",
       "30                          Nintendo               Super Mario Baseball Cap  \n",
       "31                          Nintendo               Nintendo vintage t-shirt  \n",
       "32      Handcraft Children's Apparel           Super Mario Girls' Underwear  \n",
       "33                          Nintendo  Nintendo Super Mario T-shirt for boys  \n",
       "34                          Nintendo   Nintendo Super Mario Hoodie for Boys  \n",
       "35                         Fifth Sun           Nintendo Super Mario T-Shirt  \n",
       "36      Handcraft Children's Apparel                Nintendo boys underwear  \n",
       "37                   Controller Gear              Super Mario Peach Dad Hat  \n",
       "38                       SUPER MARIO               Super Mario bodysuit set  \n",
       "39                          Nintendo                 Super Mario winter set  \n",
       "40                       SUPER MARIO                   Super Mario slippers  \n",
       "41                          Bioworld                       Mario Crew Socks  \n",
       "42                          Nintendo               Super Mario Baseball Cap  \n",
       "43                          Nintendo          Super Mario hat and glove set  \n",
       "44                          Nintendo                 Super Mario rain boots  \n",
       "45                             Crocs                      Super Mario Crocs  \n",
       "46                       SUPER MARIO               Super Mario Boys Pajamas  "
      ]
     },
     "execution_count": 41,
     "metadata": {},
     "output_type": "execute_result"
    }
   ],
   "source": [
    "%%time\n",
    "search_results = inv_ind.search(query)\n",
    "table_ser.read_rows_parallel(search_results)"
   ]
  },
  {
   "cell_type": "code",
   "execution_count": 42,
   "metadata": {
    "scrolled": true
   },
   "outputs": [
    {
     "data": {
      "text/plain": [
       "47"
      ]
     },
     "execution_count": 42,
     "metadata": {},
     "output_type": "execute_result"
    }
   ],
   "source": [
    "len(search_results)"
   ]
  },
  {
   "cell_type": "code",
   "execution_count": null,
   "metadata": {},
   "outputs": [],
   "source": []
  }
 ],
 "metadata": {
  "kernelspec": {
   "display_name": "Python 3 (ipykernel)",
   "language": "python",
   "name": "python3"
  },
  "language_info": {
   "codemirror_mode": {
    "name": "ipython",
    "version": 3
   },
   "file_extension": ".py",
   "mimetype": "text/x-python",
   "name": "python",
   "nbconvert_exporter": "python",
   "pygments_lexer": "ipython3",
   "version": "3.9.12"
  },
  "toc": {
   "base_numbering": 1,
   "nav_menu": {},
   "number_sections": true,
   "sideBar": true,
   "skip_h1_title": false,
   "title_cell": "Table of Contents",
   "title_sidebar": "Contents",
   "toc_cell": true,
   "toc_position": {
    "height": "calc(100% - 180px)",
    "left": "10px",
    "top": "150px",
    "width": "365.797px"
   },
   "toc_section_display": true,
   "toc_window_display": true
  },
  "varInspector": {
   "cols": {
    "lenName": 16,
    "lenType": 16,
    "lenVar": 40
   },
   "kernels_config": {
    "python": {
     "delete_cmd_postfix": "",
     "delete_cmd_prefix": "del ",
     "library": "var_list.py",
     "varRefreshCmd": "print(var_dic_list())"
    },
    "r": {
     "delete_cmd_postfix": ") ",
     "delete_cmd_prefix": "rm(",
     "library": "var_list.r",
     "varRefreshCmd": "cat(var_dic_list()) "
    }
   },
   "types_to_exclude": [
    "module",
    "function",
    "builtin_function_or_method",
    "instance",
    "_Feature"
   ],
   "window_display": false
  }
 },
 "nbformat": 4,
 "nbformat_minor": 4
}
