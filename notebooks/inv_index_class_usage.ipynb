{
 "cells": [
  {
   "cell_type": "markdown",
   "metadata": {
    "toc": true
   },
   "source": [
    "<h1>Table of Contents<span class=\"tocSkip\"></span></h1>\n",
    "<div class=\"toc\"><ul class=\"toc-item\"><li><span><a href=\"#Build-Indexer-and-index-data.-Store-the-index-to-disk\" data-toc-modified-id=\"Build-Indexer-and-index-data.-Store-the-index-to-disk-1\"><span class=\"toc-item-num\">1&nbsp;&nbsp;</span>Build Indexer and index data. Store the index to disk</a></span></li><li><span><a href=\"#Load-inverted-index-from-folder\" data-toc-modified-id=\"Load-inverted-index-from-folder-2\"><span class=\"toc-item-num\">2&nbsp;&nbsp;</span>Load inverted index from folder</a></span></li><li><span><a href=\"#Make-queries-(single-term)-from-the-loaded-indexer\" data-toc-modified-id=\"Make-queries-(single-term)-from-the-loaded-indexer-3\"><span class=\"toc-item-num\">3&nbsp;&nbsp;</span>Make queries (single term) from the loaded indexer</a></span></li><li><span><a href=\"#Storing-list-of-strings-to-disk\" data-toc-modified-id=\"Storing-list-of-strings-to-disk-4\"><span class=\"toc-item-num\">4&nbsp;&nbsp;</span>Storing list of strings to disk</a></span></li><li><span><a href=\"#Make-queries-(multiple-terms)-from-the-loaded-indexer\" data-toc-modified-id=\"Make-queries-(multiple-terms)-from-the-loaded-indexer-5\"><span class=\"toc-item-num\">5&nbsp;&nbsp;</span>Make queries (multiple terms) from the loaded indexer</a></span><ul class=\"toc-item\"><li><span><a href=\"#How-can-we-store-metadata-in-the-inverted-index-and-return-it-when-the-user-calls-.search?\" data-toc-modified-id=\"How-can-we-store-metadata-in-the-inverted-index-and-return-it-when-the-user-calls-.search?-5.1\"><span class=\"toc-item-num\">5.1&nbsp;&nbsp;</span>How can we store metadata in the inverted index and return it when the user calls .search?</a></span></li></ul></li><li><span><a href=\"#Row-serialization-process-for-dataframe\" data-toc-modified-id=\"Row-serialization-process-for-dataframe-6\"><span class=\"toc-item-num\">6&nbsp;&nbsp;</span>Row serialization process for dataframe</a></span><ul class=\"toc-item\"><li><span><a href=\"#Retrieve-serialized-rows-for-a-query-search\" data-toc-modified-id=\"Retrieve-serialized-rows-for-a-query-search-6.1\"><span class=\"toc-item-num\">6.1&nbsp;&nbsp;</span>Retrieve serialized rows for a query search</a></span></li></ul></li><li><span><a href=\"#benchmark\" data-toc-modified-id=\"benchmark-7\"><span class=\"toc-item-num\">7&nbsp;&nbsp;</span>benchmark</a></span></li></ul></div>"
   ]
  },
  {
   "cell_type": "markdown",
   "metadata": {},
   "source": [
    "## Build Indexer and index data. Store the index to disk"
   ]
  },
  {
   "cell_type": "code",
   "execution_count": 1,
   "metadata": {
    "ExecuteTime": {
     "end_time": "2025-05-08T20:42:23.619681Z",
     "start_time": "2025-05-08T20:42:22.194437Z"
    }
   },
   "outputs": [],
   "source": [
    "%load_ext autoreload\n",
    "%autoreload 2\n",
    "\n",
    "import pandas as pd\n",
    "import lsearch"
   ]
  },
  {
   "cell_type": "code",
   "execution_count": 2,
   "metadata": {
    "ExecuteTime": {
     "end_time": "2025-05-08T20:42:23.663155Z",
     "start_time": "2025-05-08T20:42:23.650459Z"
    }
   },
   "outputs": [],
   "source": [
    "from lsearch import InvertedIndex\n",
    "from lsearch.text_processing.tokenization.tokenizers import get_vocabulary_and_tdf_tuples, build_inv_index_from_tdf_tuples"
   ]
  },
  {
   "cell_type": "code",
   "execution_count": 7,
   "metadata": {
    "ExecuteTime": {
     "end_time": "2025-04-20T21:19:35.616653Z",
     "start_time": "2025-04-20T21:19:34.178255Z"
    }
   },
   "outputs": [
    {
     "data": {
      "text/plain": [
       "11314"
      ]
     },
     "execution_count": 7,
     "metadata": {},
     "output_type": "execute_result"
    }
   ],
   "source": [
    "from sklearn.datasets import fetch_20newsgroups\n",
    "newsgroups_train = fetch_20newsgroups(subset='train')\n",
    "docs = newsgroups_train['data']\n",
    "len(docs)"
   ]
  },
  {
   "cell_type": "code",
   "execution_count": 8,
   "metadata": {
    "ExecuteTime": {
     "end_time": "2025-04-20T21:19:36.187424Z",
     "start_time": "2025-04-20T21:19:36.171934Z"
    }
   },
   "outputs": [],
   "source": [
    "inv_ind = InvertedIndex()"
   ]
  },
  {
   "cell_type": "code",
   "execution_count": 9,
   "metadata": {
    "ExecuteTime": {
     "end_time": "2025-04-20T21:19:44.458636Z",
     "start_time": "2025-04-20T21:19:36.746531Z"
    }
   },
   "outputs": [
    {
     "name": "stdout",
     "output_type": "stream",
     "text": [
      "InvertedIndex stored in inv_index_store\n"
     ]
    }
   ],
   "source": [
    "inv_ind.index(docs, folder_store=\"inv_index_store\")"
   ]
  },
  {
   "cell_type": "markdown",
   "metadata": {
    "ExecuteTime": {
     "end_time": "2025-04-15T22:40:58.268315Z",
     "start_time": "2025-04-15T22:40:58.252680Z"
    }
   },
   "source": [
    "after fitting the inverted index the necesary components will found "
   ]
  },
  {
   "cell_type": "code",
   "execution_count": 10,
   "metadata": {
    "ExecuteTime": {
     "end_time": "2025-04-20T21:19:45.174239Z",
     "start_time": "2025-04-20T21:19:45.002071Z"
    }
   },
   "outputs": [
    {
     "name": "stdout",
     "output_type": "stream",
     "text": [
      "data_by_term.bin            word2pos.pkl\r\n",
      "doc_freq.pkl                word_freq.pkl\r\n",
      "postings_term_pointers.pkl\r\n"
     ]
    }
   ],
   "source": [
    "ls inv_index_store/"
   ]
  },
  {
   "cell_type": "markdown",
   "metadata": {},
   "source": [
    "We can find all docs that have a particular term using '.search'"
   ]
  },
  {
   "cell_type": "markdown",
   "metadata": {},
   "source": [
    "## Load inverted index from folder"
   ]
  },
  {
   "cell_type": "code",
   "execution_count": 11,
   "metadata": {
    "ExecuteTime": {
     "end_time": "2025-04-20T21:19:45.963204Z",
     "start_time": "2025-04-20T21:19:45.740222Z"
    }
   },
   "outputs": [],
   "source": [
    "inv_index_from_disk = InvertedIndex.read_inv_index('./inv_index_store')"
   ]
  },
  {
   "cell_type": "code",
   "execution_count": 12,
   "metadata": {
    "ExecuteTime": {
     "end_time": "2025-04-20T21:19:46.564526Z",
     "start_time": "2025-04-20T21:19:46.547108Z"
    }
   },
   "outputs": [
    {
     "data": {
      "text/plain": [
       "dict_keys(['word2pos', 'n_docs_seen', 'folder_store', 'word_freq', 'doc_freq', 'postings_term_pointers'])"
      ]
     },
     "execution_count": 12,
     "metadata": {},
     "output_type": "execute_result"
    }
   ],
   "source": [
    "inv_index_from_disk.__dict__.keys()"
   ]
  },
  {
   "cell_type": "code",
   "execution_count": 13,
   "metadata": {
    "ExecuteTime": {
     "end_time": "2025-04-20T21:19:47.292623Z",
     "start_time": "2025-04-20T21:19:47.163620Z"
    }
   },
   "outputs": [],
   "source": [
    "word_pos_tuples = inv_ind.word2pos.items()\n",
    "words = [x[0] for x in word_pos_tuples]\n",
    "pos = [x[1] for x in word_pos_tuples]\n",
    "\n",
    "inv_ind.write_strings_to_file(\"word2pos_test.bin\", inv_ind.word2pos)"
   ]
  },
  {
   "cell_type": "code",
   "execution_count": 14,
   "metadata": {
    "ExecuteTime": {
     "end_time": "2025-04-20T21:19:48.108491Z",
     "start_time": "2025-04-20T21:19:48.035628Z"
    }
   },
   "outputs": [],
   "source": [
    "vocab_from_file = inv_ind.read_strings_from_file(\"word2pos_test.bin\")"
   ]
  },
  {
   "cell_type": "code",
   "execution_count": 15,
   "metadata": {
    "ExecuteTime": {
     "end_time": "2025-04-20T21:19:48.925948Z",
     "start_time": "2025-04-20T21:19:48.909162Z"
    }
   },
   "outputs": [
    {
     "data": {
      "text/plain": [
       "['from', 'lerxst', 'wam', 'umd', 'edu', 'where', 's', 'my', 'thing', 'subject']"
      ]
     },
     "execution_count": 15,
     "metadata": {},
     "output_type": "execute_result"
    }
   ],
   "source": [
    "vocab_from_file[0:10]"
   ]
  },
  {
   "cell_type": "markdown",
   "metadata": {},
   "source": [
    "## Make queries (single term) from the loaded indexer"
   ]
  },
  {
   "cell_type": "code",
   "execution_count": 16,
   "metadata": {
    "ExecuteTime": {
     "end_time": "2025-04-20T21:20:05.746589Z",
     "start_time": "2025-04-20T21:19:49.715037Z"
    }
   },
   "outputs": [
    {
     "name": "stdout",
     "output_type": "stream",
     "text": [
      "90.5 µs ± 771 ns per loop (mean ± std. dev. of 7 runs, 10,000 loops each)\n"
     ]
    }
   ],
   "source": [
    "%%timeit\n",
    "inv_index_from_disk.get_tuples_for_term_id(12312)"
   ]
  },
  {
   "cell_type": "code",
   "execution_count": 17,
   "metadata": {
    "ExecuteTime": {
     "end_time": "2025-04-20T21:20:08.456665Z",
     "start_time": "2025-04-20T21:20:06.704155Z"
    }
   },
   "outputs": [
    {
     "name": "stdout",
     "output_type": "stream",
     "text": [
      "1.55 ms ± 19.9 µs per loop (mean ± std. dev. of 7 runs, 1,000 loops each)\n"
     ]
    }
   ],
   "source": [
    "%%timeit\n",
    "inv_index_from_disk.get_tuples_for_term_id_slow(12312)"
   ]
  },
  {
   "cell_type": "code",
   "execution_count": 18,
   "metadata": {
    "ExecuteTime": {
     "end_time": "2025-04-20T21:20:09.341936Z",
     "start_time": "2025-04-20T21:20:09.289303Z"
    }
   },
   "outputs": [
    {
     "data": {
      "text/plain": [
       "[(12312, 227, 1),\n",
       " (12312, 954, 1),\n",
       " (12312, 1672, 1),\n",
       " (12312, 2721, 1),\n",
       " (12312, 3568, 1),\n",
       " (12312, 7209, 1)]"
      ]
     },
     "execution_count": 18,
     "metadata": {},
     "output_type": "execute_result"
    }
   ],
   "source": [
    "inv_index_from_disk.get_tuples_for_term_id(12312)"
   ]
  },
  {
   "cell_type": "code",
   "execution_count": 19,
   "metadata": {
    "ExecuteTime": {
     "end_time": "2025-04-20T21:20:10.203699Z",
     "start_time": "2025-04-20T21:20:10.156379Z"
    }
   },
   "outputs": [
    {
     "data": {
      "text/plain": [
       "[(12312, 227, 1),\n",
       " (12312, 954, 1),\n",
       " (12312, 1672, 1),\n",
       " (12312, 2721, 1),\n",
       " (12312, 3568, 1),\n",
       " (12312, 7209, 1)]"
      ]
     },
     "execution_count": 19,
     "metadata": {},
     "output_type": "execute_result"
    }
   ],
   "source": [
    "inv_index_from_disk.get_tuples_for_term_id_slow(12312)"
   ]
  },
  {
   "cell_type": "markdown",
   "metadata": {},
   "source": [
    "We can use a `term` (string) instead of the `term_id` (integer)."
   ]
  },
  {
   "cell_type": "code",
   "execution_count": 20,
   "metadata": {
    "ExecuteTime": {
     "end_time": "2025-04-20T21:20:11.079602Z",
     "start_time": "2025-04-20T21:20:11.039198Z"
    }
   },
   "outputs": [
    {
     "data": {
      "text/plain": [
       "[(23577, 525, 3),\n",
       " (23577, 830, 2),\n",
       " (23577, 1125, 2),\n",
       " (23577, 2138, 1),\n",
       " (23577, 2839, 1),\n",
       " (23577, 3867, 1),\n",
       " (23577, 4922, 1),\n",
       " (23577, 5855, 1),\n",
       " (23577, 6016, 2),\n",
       " (23577, 6470, 1),\n",
       " (23577, 7890, 1),\n",
       " (23577, 8815, 1),\n",
       " (23577, 9023, 2),\n",
       " (23577, 9382, 2),\n",
       " (23577, 9941, 3)]"
      ]
     },
     "execution_count": 20,
     "metadata": {},
     "output_type": "execute_result"
    }
   ],
   "source": [
    "inv_index_from_disk.get_tuples_for_term('nintendo')"
   ]
  },
  {
   "cell_type": "markdown",
   "metadata": {
    "ExecuteTime": {
     "end_time": "2025-04-17T22:07:05.898597Z",
     "start_time": "2025-04-17T22:07:05.882388Z"
    }
   },
   "source": [
    "## Storing list of strings to disk"
   ]
  },
  {
   "cell_type": "code",
   "execution_count": 21,
   "metadata": {
    "ExecuteTime": {
     "end_time": "2025-04-20T22:12:22.415392Z",
     "start_time": "2025-04-20T22:12:22.231328Z"
    }
   },
   "outputs": [],
   "source": [
    "vocab = list(inv_index_from_disk.word2pos.keys())"
   ]
  },
  {
   "cell_type": "code",
   "execution_count": 22,
   "metadata": {
    "ExecuteTime": {
     "end_time": "2025-04-20T22:12:53.219742Z",
     "start_time": "2025-04-20T22:12:45.969002Z"
    }
   },
   "outputs": [
    {
     "name": "stdout",
     "output_type": "stream",
     "text": [
      "35.8 ms ± 153 µs per loop (mean ± std. dev. of 7 runs, 10 loops each)\n"
     ]
    }
   ],
   "source": [
    "%%timeit\n",
    "inv_index_from_disk.write_strings_to_file('test.bin', vocab)"
   ]
  },
  {
   "cell_type": "code",
   "execution_count": 23,
   "metadata": {
    "ExecuteTime": {
     "end_time": "2025-04-20T22:09:59.399326Z",
     "start_time": "2025-04-20T22:09:57.048319Z"
    }
   },
   "outputs": [
    {
     "name": "stdout",
     "output_type": "stream",
     "text": [
      "7.55 ms ± 160 µs per loop (mean ± std. dev. of 7 runs, 100 loops each)\n"
     ]
    }
   ],
   "source": [
    "%%timeit\n",
    "v = inv_index_from_disk.read_strings_from_file('test.bin')"
   ]
  },
  {
   "cell_type": "markdown",
   "metadata": {},
   "source": [
    "## Make queries (multiple terms) from the loaded indexer\n",
    "\n",
    "\n",
    "The notebook \n",
    "\n",
    "```\n",
    "chap_6_processing_boolean_queries.ipynb\n",
    "```\n",
    "\n",
    "has a detailed method to compute intersections between postings that are sorted by `doc_id`."
   ]
  },
  {
   "cell_type": "code",
   "execution_count": 24,
   "metadata": {
    "ExecuteTime": {
     "end_time": "2025-04-20T22:47:58.339742Z",
     "start_time": "2025-04-20T22:47:58.241131Z"
    }
   },
   "outputs": [
    {
     "data": {
      "text/plain": [
       "[[(23577, 525, 3),\n",
       "  (23577, 830, 2),\n",
       "  (23577, 1125, 2),\n",
       "  (23577, 2138, 1),\n",
       "  (23577, 2839, 1),\n",
       "  (23577, 3867, 1),\n",
       "  (23577, 4922, 1),\n",
       "  (23577, 5855, 1),\n",
       "  (23577, 6016, 2),\n",
       "  (23577, 6470, 1),\n",
       "  (23577, 7890, 1),\n",
       "  (23577, 8815, 1),\n",
       "  (23577, 9023, 2),\n",
       "  (23577, 9382, 2),\n",
       "  (23577, 9941, 3)],\n",
       " [(5259, 70, 1),\n",
       "  (5259, 173, 2),\n",
       "  (5259, 525, 2),\n",
       "  (5259, 830, 1),\n",
       "  (5259, 1125, 2),\n",
       "  (5259, 1331, 1),\n",
       "  (5259, 1395, 1),\n",
       "  (5259, 1401, 1),\n",
       "  (5259, 1461, 1),\n",
       "  (5259, 1624, 3),\n",
       "  (5259, 1822, 1),\n",
       "  (5259, 2179, 1),\n",
       "  (5259, 2194, 1),\n",
       "  (5259, 2269, 1),\n",
       "  (5259, 2303, 1),\n",
       "  (5259, 2316, 2),\n",
       "  (5259, 2379, 1),\n",
       "  (5259, 2526, 1),\n",
       "  (5259, 2665, 1),\n",
       "  (5259, 2676, 1),\n",
       "  (5259, 2705, 1),\n",
       "  (5259, 2741, 1),\n",
       "  (5259, 2749, 1),\n",
       "  (5259, 3024, 1),\n",
       "  (5259, 3169, 2),\n",
       "  (5259, 3179, 1),\n",
       "  (5259, 3209, 1),\n",
       "  (5259, 3226, 1),\n",
       "  (5259, 3243, 1),\n",
       "  (5259, 3480, 4),\n",
       "  (5259, 3574, 1),\n",
       "  (5259, 3696, 1),\n",
       "  (5259, 3777, 1),\n",
       "  (5259, 3822, 3),\n",
       "  (5259, 3867, 1),\n",
       "  (5259, 3869, 1),\n",
       "  (5259, 3966, 1),\n",
       "  (5259, 4109, 2),\n",
       "  (5259, 4166, 2),\n",
       "  (5259, 4269, 1),\n",
       "  (5259, 4335, 1),\n",
       "  (5259, 4345, 1),\n",
       "  (5259, 4391, 1),\n",
       "  (5259, 4500, 1),\n",
       "  (5259, 4519, 1),\n",
       "  (5259, 4594, 1),\n",
       "  (5259, 4639, 1),\n",
       "  (5259, 4792, 1),\n",
       "  (5259, 4896, 1),\n",
       "  (5259, 4961, 1),\n",
       "  (5259, 5069, 1),\n",
       "  (5259, 5098, 1),\n",
       "  (5259, 5282, 1),\n",
       "  (5259, 5545, 1),\n",
       "  (5259, 5757, 2),\n",
       "  (5259, 5786, 1),\n",
       "  (5259, 5928, 1),\n",
       "  (5259, 5935, 1),\n",
       "  (5259, 6216, 1),\n",
       "  (5259, 6281, 1),\n",
       "  (5259, 6313, 1),\n",
       "  (5259, 6437, 1),\n",
       "  (5259, 6767, 2),\n",
       "  (5259, 6880, 1),\n",
       "  (5259, 6935, 1),\n",
       "  (5259, 6964, 1),\n",
       "  (5259, 7033, 1),\n",
       "  (5259, 7041, 1),\n",
       "  (5259, 7053, 1),\n",
       "  (5259, 7055, 3),\n",
       "  (5259, 7090, 2),\n",
       "  (5259, 7190, 1),\n",
       "  (5259, 7488, 1),\n",
       "  (5259, 7499, 2),\n",
       "  (5259, 7769, 2),\n",
       "  (5259, 7836, 1),\n",
       "  (5259, 7929, 1),\n",
       "  (5259, 8063, 1),\n",
       "  (5259, 8087, 1),\n",
       "  (5259, 8092, 1),\n",
       "  (5259, 8218, 1),\n",
       "  (5259, 8489, 1),\n",
       "  (5259, 8519, 2),\n",
       "  (5259, 8564, 1),\n",
       "  (5259, 8656, 1),\n",
       "  (5259, 8676, 2),\n",
       "  (5259, 8803, 2),\n",
       "  (5259, 8823, 1),\n",
       "  (5259, 8943, 1),\n",
       "  (5259, 9023, 2),\n",
       "  (5259, 9063, 1),\n",
       "  (5259, 9150, 1),\n",
       "  (5259, 9154, 1),\n",
       "  (5259, 9176, 1),\n",
       "  (5259, 9285, 1),\n",
       "  (5259, 9329, 1),\n",
       "  (5259, 9382, 4),\n",
       "  (5259, 9890, 1),\n",
       "  (5259, 9911, 1),\n",
       "  (5259, 9915, 1),\n",
       "  (5259, 9941, 2),\n",
       "  (5259, 10008, 1),\n",
       "  (5259, 10109, 1),\n",
       "  (5259, 10144, 3),\n",
       "  (5259, 10285, 1),\n",
       "  (5259, 10384, 1),\n",
       "  (5259, 10387, 2),\n",
       "  (5259, 10433, 1),\n",
       "  (5259, 10443, 1),\n",
       "  (5259, 10516, 1),\n",
       "  (5259, 10531, 1),\n",
       "  (5259, 10721, 1),\n",
       "  (5259, 10802, 1),\n",
       "  (5259, 10889, 1),\n",
       "  (5259, 10915, 1),\n",
       "  (5259, 10960, 1),\n",
       "  (5259, 11008, 3),\n",
       "  (5259, 11151, 1),\n",
       "  (5259, 11225, 1)],\n",
       " [(2145, 21, 1),\n",
       "  (2145, 88, 1),\n",
       "  (2145, 323, 1),\n",
       "  (2145, 830, 1),\n",
       "  (2145, 1081, 3),\n",
       "  (2145, 1097, 1),\n",
       "  (2145, 1205, 1),\n",
       "  (2145, 1446, 1),\n",
       "  (2145, 1916, 1),\n",
       "  (2145, 2250, 2),\n",
       "  (2145, 2316, 1),\n",
       "  (2145, 2756, 3),\n",
       "  (2145, 2940, 1),\n",
       "  (2145, 3313, 1),\n",
       "  (2145, 3706, 1),\n",
       "  (2145, 3771, 1),\n",
       "  (2145, 3944, 3),\n",
       "  (2145, 3997, 1),\n",
       "  (2145, 4466, 1),\n",
       "  (2145, 5073, 1),\n",
       "  (2145, 5210, 1),\n",
       "  (2145, 5692, 1),\n",
       "  (2145, 5781, 1),\n",
       "  (2145, 5855, 1),\n",
       "  (2145, 6368, 9),\n",
       "  (2145, 6648, 1),\n",
       "  (2145, 7013, 1),\n",
       "  (2145, 7068, 1),\n",
       "  (2145, 7395, 1),\n",
       "  (2145, 7434, 1),\n",
       "  (2145, 7515, 1),\n",
       "  (2145, 7689, 3),\n",
       "  (2145, 7752, 1),\n",
       "  (2145, 7984, 1),\n",
       "  (2145, 8118, 1),\n",
       "  (2145, 8363, 1),\n",
       "  (2145, 8877, 1),\n",
       "  (2145, 8984, 1),\n",
       "  (2145, 9023, 1),\n",
       "  (2145, 9382, 3),\n",
       "  (2145, 9504, 5),\n",
       "  (2145, 9635, 5),\n",
       "  (2145, 9772, 2),\n",
       "  (2145, 9859, 1),\n",
       "  (2145, 9941, 1),\n",
       "  (2145, 10105, 1),\n",
       "  (2145, 10200, 1),\n",
       "  (2145, 10426, 2),\n",
       "  (2145, 11214, 1)]]"
      ]
     },
     "execution_count": 24,
     "metadata": {},
     "output_type": "execute_result"
    }
   ],
   "source": [
    "query = 'nintendo super mario'\n",
    "inv_index_from_disk.search_postings_for_terms(query)"
   ]
  },
  {
   "cell_type": "code",
   "execution_count": 25,
   "metadata": {
    "ExecuteTime": {
     "end_time": "2025-04-20T22:48:06.224424Z",
     "start_time": "2025-04-20T22:48:01.534912Z"
    }
   },
   "outputs": [
    {
     "name": "stdout",
     "output_type": "stream",
     "text": [
      "268 µs ± 452 ns per loop (mean ± std. dev. of 7 runs, 1,000 loops each)\n"
     ]
    }
   ],
   "source": [
    "%%timeit\n",
    "inv_index_from_disk.search(query)"
   ]
  },
  {
   "cell_type": "code",
   "execution_count": 26,
   "metadata": {
    "ExecuteTime": {
     "end_time": "2025-04-20T22:48:13.368845Z",
     "start_time": "2025-04-20T22:48:13.280451Z"
    }
   },
   "outputs": [
    {
     "data": {
      "text/plain": [
       "[830, 9023]"
      ]
     },
     "execution_count": 26,
     "metadata": {},
     "output_type": "execute_result"
    }
   ],
   "source": [
    "search_results = inv_index_from_disk.search(query)\n",
    "search_results"
   ]
  },
  {
   "cell_type": "code",
   "execution_count": 27,
   "metadata": {
    "ExecuteTime": {
     "end_time": "2025-04-20T22:48:16.783854Z",
     "start_time": "2025-04-20T22:48:16.768079Z"
    },
    "scrolled": true
   },
   "outputs": [
    {
     "name": "stdout",
     "output_type": "stream",
     "text": [
      "From: fields@cis.ohio-state.edu (jonathan david fields)\n",
      "Subject: Misc. Stuff for Sale\n",
      "Article-I.D.: penguin.1po5lqINN749\n",
      "Distribution: usa\n",
      "Organization: The Ohio State University Dept. of Computer and Info. Science\n",
      "Lines: 46\n",
      "NNTP-Posting-Host: penguin.cis.ohio-state.edu\n",
      "\n",
      "\n",
      "Misc. Items for sale:\n",
      "\n",
      "\n",
      "Walkman:  Aiwa Model HS-T30, 1 year old, mint condition, hardly used, \n",
      "          autoreverse, 3 band Equalizer, Super Bass, Dolby Noise Reduction,\n",
      "          AM FM tuner..........Paid $70.......Asking $40+shipping.\n",
      "\n",
      "Mount Plate:  Sony Model CPM-203P, mounting plate for Sony portable CD players\n",
      "for Portable: plugs into car lighter, snaps onto the bottom of any Sony\n",
      "CD Player:    Portable CD player, perfect condition. Will also throw in a \n",
      "\t      cassette adapter in SO SO condition.\n",
      "\t      Paid $45...............Asking $30+shipping.\n",
      "\n",
      "AM FM:\t    Factory Stereo from Toyota with AM FM radio, autoreverse cassette\n",
      "Cassette:   deck, digital tuning, like new condition only in car 6 months,\n",
      "Car Stereo: Asking $60+shipping.\n",
      "\n",
      "Car Speakers:\tSherwood 5 1/4\" two way car speakers, in car for 7 months,\n",
      "5 1/4 inch:\texcellent condition, Paid $65............Asking $40+shipping.\n",
      "\n",
      "4 inch:\t    Factory Speakers from Toyota excellent condition \n",
      "\t    Asking $20+shipping.\n",
      "\n",
      "\n",
      "Nintendo:   Nintendo Game Boy, Light Boy, Tetris, Super Mario Land,  \n",
      "Gameboy:    NFL Football, Castlevania Adventure, Hyper Lode Runner, 4 years\n",
      "+ games:    old\tall in working condition, Asking $70+shipping.\n",
      "Accessories:\n",
      "\n",
      "\n",
      "Whole Internet:\tThe Whole Internet: User's Guide and Catalog by ED Krol,\n",
      "book:\t\tguide to using the internet, where to fing information and \n",
      "\t\tresources.   Paid $30..........Asking $20+shipping.\n",
      "\n",
      "MicroSoft:    Never Used, came with my computer, Asking $ 60+shipping.\n",
      "Visual Basic:\n",
      "\n",
      "MicroSoft:  For Windows, never used, came with my computer, \n",
      "Quick C:    Sells new Student edition for $95............Asking $70+shipping.\n",
      "\n",
      "Please resond to fields@cis.ohio-state.edu\n",
      "\n",
      "\t\t\t\tThanks,\n",
      "\n",
      "\t\t\t\tJonathan D. Fields\n",
      "\n"
     ]
    }
   ],
   "source": [
    "print(docs[search_results[1]])"
   ]
  },
  {
   "cell_type": "markdown",
   "metadata": {},
   "source": [
    "### How can we store metadata in the inverted index and return it when the user calls .search?"
   ]
  },
  {
   "cell_type": "code",
   "execution_count": 28,
   "metadata": {
    "ExecuteTime": {
     "end_time": "2025-04-26T21:55:57.533647Z",
     "start_time": "2025-04-26T21:55:57.095974Z"
    }
   },
   "outputs": [
    {
     "data": {
      "text/plain": [
       "Dataset({\n",
       "    features: ['parent_asin', 'main_category', 'title', 'description', 'features', 'embellished_description', 'brand', 'images', 'short_query', 'long_query'],\n",
       "    num_rows: 205637\n",
       "})"
      ]
     },
     "execution_count": 28,
     "metadata": {},
     "output_type": "execute_result"
    }
   ],
   "source": [
    "from datasets import load_from_disk\n",
    "\n",
    "train_dataset = load_from_disk(\"/Users/dbuchaca/Desktop/text_retrieval_and_search_engines/datasets/amazon_2023_genq/train_dataset\")\n",
    "# If running from QNAP \n",
    "#train_dataset = load_from_disk(\"/Users/davidbuchaca1/Datasets/amazon_2023_genq/train_dataset\")\n",
    "train_dataset"
   ]
  },
  {
   "cell_type": "code",
   "execution_count": 29,
   "metadata": {
    "ExecuteTime": {
     "end_time": "2025-04-26T21:56:03.082584Z",
     "start_time": "2025-04-26T21:56:01.313414Z"
    }
   },
   "outputs": [],
   "source": [
    "df = train_dataset.to_pandas()\n",
    "df.head()\n",
    "df.to_parquet('./dataset.parquet')"
   ]
  },
  {
   "cell_type": "markdown",
   "metadata": {
    "ExecuteTime": {
     "end_time": "2025-04-26T21:59:54.348636Z",
     "start_time": "2025-04-26T21:59:45.540806Z"
    }
   },
   "source": [
    "Read as parquet"
   ]
  },
  {
   "cell_type": "code",
   "execution_count": 43,
   "metadata": {
    "ExecuteTime": {
     "end_time": "2025-04-26T22:03:13.382533Z",
     "start_time": "2025-04-26T22:03:10.905426Z"
    }
   },
   "outputs": [],
   "source": [
    "df_ = pd.read_parquet('dataset.parquet')"
   ]
  },
  {
   "cell_type": "markdown",
   "metadata": {},
   "source": [
    "Storing metadata for documents as an external parquet file such as https://chatgpt.com/c/68080f54-97c0-8008-8c4f-7de93aa43048"
   ]
  },
  {
   "cell_type": "markdown",
   "metadata": {},
   "source": [
    "## Row serialization process for dataframe"
   ]
  },
  {
   "cell_type": "code",
   "execution_count": 7,
   "metadata": {
    "ExecuteTime": {
     "end_time": "2025-05-08T20:42:37.880383Z",
     "start_time": "2025-05-08T20:42:37.866220Z"
    }
   },
   "outputs": [],
   "source": [
    "from lsearch import TableSerializer"
   ]
  },
  {
   "cell_type": "code",
   "execution_count": 8,
   "metadata": {
    "ExecuteTime": {
     "end_time": "2025-05-08T20:42:40.933556Z",
     "start_time": "2025-05-08T20:42:38.362041Z"
    }
   },
   "outputs": [],
   "source": [
    "df_ = pd.read_parquet('dataset.parquet')"
   ]
  },
  {
   "cell_type": "code",
   "execution_count": 9,
   "metadata": {
    "ExecuteTime": {
     "end_time": "2025-05-08T20:42:41.001653Z",
     "start_time": "2025-05-08T20:42:40.988020Z"
    }
   },
   "outputs": [
    {
     "data": {
      "text/plain": [
       "{'parent_asin': 'str',\n",
       " 'main_category': 'str',\n",
       " 'title': 'str',\n",
       " 'description': 'str',\n",
       " 'features': 'str',\n",
       " 'brand': 'str',\n",
       " 'short_query': 'str'}"
      ]
     },
     "execution_count": 9,
     "metadata": {},
     "output_type": "execute_result"
    }
   ],
   "source": [
    "cols = [\"parent_asin\", \n",
    "        \"main_category\",\n",
    "        \"title\",\n",
    "        \"description\",\n",
    "        \"features\", \n",
    "        \"brand\",\n",
    "        \"short_query\"]\n",
    "\n",
    "schema = {col:'str' for col in cols}\n",
    "schema"
   ]
  },
  {
   "cell_type": "code",
   "execution_count": 20,
   "metadata": {
    "ExecuteTime": {
     "end_time": "2025-05-08T20:49:47.128828Z",
     "start_time": "2025-05-08T20:49:47.096699Z"
    }
   },
   "outputs": [],
   "source": [
    "table_ser = TableSerializer(bin_path=\"variable_bin_storage.bin\", \n",
    "                            schema=schema,\n",
    "                            variable_length_columns = cols)"
   ]
  },
  {
   "cell_type": "code",
   "execution_count": 19,
   "metadata": {
    "ExecuteTime": {
     "end_time": "2025-05-08T20:49:23.854923Z",
     "start_time": "2025-05-08T20:49:07.888799Z"
    }
   },
   "outputs": [
    {
     "name": "stdout",
     "output_type": "stream",
     "text": [
      "CPU times: user 15.1 s, sys: 379 ms, total: 15.5 s\n",
      "Wall time: 15.9 s\n"
     ]
    }
   ],
   "source": [
    "%%time\n",
    "table_ser.serialize(df_)"
   ]
  },
  {
   "cell_type": "code",
   "execution_count": 17,
   "metadata": {
    "ExecuteTime": {
     "end_time": "2025-05-08T20:48:04.692464Z",
     "start_time": "2025-05-08T20:47:34.308173Z"
    }
   },
   "outputs": [
    {
     "name": "stdout",
     "output_type": "stream",
     "text": [
      "CPU times: user 29.1 s, sys: 590 ms, total: 29.7 s\n",
      "Wall time: 30.3 s\n"
     ]
    }
   ],
   "source": [
    "%%time\n",
    "table_ser.serialize_slow(df_)"
   ]
  },
  {
   "cell_type": "code",
   "execution_count": 36,
   "metadata": {},
   "outputs": [
    {
     "name": "stdout",
     "output_type": "stream",
     "text": [
      "1.05 ms ± 109 µs per loop (mean ± std. dev. of 7 runs, 1,000 loops each)\n"
     ]
    }
   ],
   "source": [
    "%%timeit\n",
    "table_ser.read_rows_parallel([0, 520, 40])"
   ]
  },
  {
   "cell_type": "markdown",
   "metadata": {},
   "source": [
    "### Retrieve serialized rows for a query search"
   ]
  },
  {
   "cell_type": "code",
   "execution_count": 23,
   "metadata": {
    "ExecuteTime": {
     "end_time": "2025-05-08T21:03:17.769957Z",
     "start_time": "2025-05-08T21:03:17.607971Z"
    }
   },
   "outputs": [
    {
     "data": {
      "text/plain": [
       "'NHL Molded Auto Emblem Showcase your team spirit with this eye-catching Chrome Finished Auto Emblem 3D Sticker by Rico Industries. This auto emblem 3D sticker measures 5-inches by 5-inches and is decorated with a dynamic and bold team logo. It easily adheres to any vehicle or other hard surface and is made of weather resistant materials. Made in the USA.'"
      ]
     },
     "execution_count": 23,
     "metadata": {},
     "output_type": "execute_result"
    }
   ],
   "source": [
    "(df_['title'] + ' ' + df_['description']).iloc[0]"
   ]
  },
  {
   "cell_type": "code",
   "execution_count": 25,
   "metadata": {
    "ExecuteTime": {
     "end_time": "2025-05-08T21:04:25.236199Z",
     "start_time": "2025-05-08T21:03:36.710443Z"
    }
   },
   "outputs": [
    {
     "name": "stdout",
     "output_type": "stream",
     "text": [
      "InvertedIndex stored in inv_index_store_amazon_2023_genq\n",
      "CPU times: user 46.6 s, sys: 1.21 s, total: 47.8 s\n",
      "Wall time: 48.5 s\n"
     ]
    }
   ],
   "source": [
    "%%time\n",
    "inv_ind = InvertedIndex()\n",
    "inv_ind.index(df_['title'] + ' ' + df_['description'], folder_store=\"inv_index_store_amazon_2023_genq\")"
   ]
  },
  {
   "cell_type": "code",
   "execution_count": 35,
   "metadata": {
    "ExecuteTime": {
     "end_time": "2025-05-08T21:06:06.375645Z",
     "start_time": "2025-05-08T21:06:06.331069Z"
    }
   },
   "outputs": [
    {
     "name": "stdout",
     "output_type": "stream",
     "text": [
      "CPU times: user 18.1 ms, sys: 849 µs, total: 18.9 ms\n",
      "Wall time: 18.3 ms\n",
      "CPU times: user 6.19 ms, sys: 5.56 ms, total: 11.7 ms\n",
      "Wall time: 7.38 ms\n",
      "(49, 7)\n"
     ]
    },
    {
     "data": {
      "text/html": [
       "<div>\n",
       "<style scoped>\n",
       "    .dataframe tbody tr th:only-of-type {\n",
       "        vertical-align: middle;\n",
       "    }\n",
       "\n",
       "    .dataframe tbody tr th {\n",
       "        vertical-align: top;\n",
       "    }\n",
       "\n",
       "    .dataframe thead th {\n",
       "        text-align: right;\n",
       "    }\n",
       "</style>\n",
       "<table border=\"1\" class=\"dataframe\">\n",
       "  <thead>\n",
       "    <tr style=\"text-align: right;\">\n",
       "      <th></th>\n",
       "      <th>parent_asin</th>\n",
       "      <th>main_category</th>\n",
       "      <th>title</th>\n",
       "      <th>description</th>\n",
       "      <th>features</th>\n",
       "      <th>brand</th>\n",
       "      <th>short_query</th>\n",
       "    </tr>\n",
       "  </thead>\n",
       "  <tbody>\n",
       "    <tr>\n",
       "      <th>0</th>\n",
       "      <td>B08JZMQMNF</td>\n",
       "      <td>AMAZON FASHION</td>\n",
       "      <td>Super Mario Nintendo Rain Boots,Mid Height Sli...</td>\n",
       "      <td>Stomping, hopping, and walking in the rain has...</td>\n",
       "      <td>Rubber sole\\nSUPER MARIO FUN: Super Mario Bros...</td>\n",
       "      <td>SUPER MARIO</td>\n",
       "      <td>Super Mario Rain Boots for Kids</td>\n",
       "    </tr>\n",
       "    <tr>\n",
       "      <th>1</th>\n",
       "      <td>B09TRWSQYG</td>\n",
       "      <td>AMAZON FASHION</td>\n",
       "      <td>Nintendo Super Mario Little &amp; Big Boys Swim Tr...</td>\n",
       "      <td>Little and big kids will love these Super Mari...</td>\n",
       "      <td>100% Polyester\\nImported\\nElastic closure\\nSwi...</td>\n",
       "      <td>Nintendo</td>\n",
       "      <td>Super Mario boys swim trunks</td>\n",
       "    </tr>\n",
       "    <tr>\n",
       "      <th>2</th>\n",
       "      <td>B07ZZLH18W</td>\n",
       "      <td>AMAZON FASHION</td>\n",
       "      <td>Mario Kart Nintendo Boys' Super Mario Drifting...</td>\n",
       "      <td>This tee is a special edition not available an...</td>\n",
       "      <td>100% Cotton\\nPull On closure\\nMachine Wash\\nLO...</td>\n",
       "      <td>Mario Kart</td>\n",
       "      <td>Mario Kart t-shirt for boys</td>\n",
       "    </tr>\n",
       "    <tr>\n",
       "      <th>3</th>\n",
       "      <td>B0BXVXKFLQ</td>\n",
       "      <td>AMAZON FASHION</td>\n",
       "      <td>Nintendo Boys' Super Mario Boxer Briefs Availa...</td>\n",
       "      <td>All packs available are fun and adds a unique ...</td>\n",
       "      <td>92% Polyester, 8% Spandex\\nImported\\nPull On c...</td>\n",
       "      <td>Handcraft Children's Apparel</td>\n",
       "      <td>Nintendo Boxer Briefs</td>\n",
       "    </tr>\n",
       "    <tr>\n",
       "      <th>4</th>\n",
       "      <td>B07HYBLKRD</td>\n",
       "      <td>AMAZON FASHION</td>\n",
       "      <td>Jumping Beans Boys 4-10 Nintendo Super Mario B...</td>\n",
       "      <td>Boys 4-10 Jumping Beans Nintendo Super Mario B...</td>\n",
       "      <td>100% Cotton\\nPull On closure\\nMachine Wash\\nCr...</td>\n",
       "      <td>Jumping Beans</td>\n",
       "      <td>Boys Yoshi Graphic Tee</td>\n",
       "    </tr>\n",
       "  </tbody>\n",
       "</table>\n",
       "</div>"
      ],
      "text/plain": [
       "  parent_asin   main_category  \\\n",
       "0  B08JZMQMNF  AMAZON FASHION   \n",
       "1  B09TRWSQYG  AMAZON FASHION   \n",
       "2  B07ZZLH18W  AMAZON FASHION   \n",
       "3  B0BXVXKFLQ  AMAZON FASHION   \n",
       "4  B07HYBLKRD  AMAZON FASHION   \n",
       "\n",
       "                                               title  \\\n",
       "0  Super Mario Nintendo Rain Boots,Mid Height Sli...   \n",
       "1  Nintendo Super Mario Little & Big Boys Swim Tr...   \n",
       "2  Mario Kart Nintendo Boys' Super Mario Drifting...   \n",
       "3  Nintendo Boys' Super Mario Boxer Briefs Availa...   \n",
       "4  Jumping Beans Boys 4-10 Nintendo Super Mario B...   \n",
       "\n",
       "                                         description  \\\n",
       "0  Stomping, hopping, and walking in the rain has...   \n",
       "1  Little and big kids will love these Super Mari...   \n",
       "2  This tee is a special edition not available an...   \n",
       "3  All packs available are fun and adds a unique ...   \n",
       "4  Boys 4-10 Jumping Beans Nintendo Super Mario B...   \n",
       "\n",
       "                                            features  \\\n",
       "0  Rubber sole\\nSUPER MARIO FUN: Super Mario Bros...   \n",
       "1  100% Polyester\\nImported\\nElastic closure\\nSwi...   \n",
       "2  100% Cotton\\nPull On closure\\nMachine Wash\\nLO...   \n",
       "3  92% Polyester, 8% Spandex\\nImported\\nPull On c...   \n",
       "4  100% Cotton\\nPull On closure\\nMachine Wash\\nCr...   \n",
       "\n",
       "                          brand                      short_query  \n",
       "0                   SUPER MARIO  Super Mario Rain Boots for Kids  \n",
       "1                      Nintendo     Super Mario boys swim trunks  \n",
       "2                    Mario Kart      Mario Kart t-shirt for boys  \n",
       "3  Handcraft Children's Apparel            Nintendo Boxer Briefs  \n",
       "4                 Jumping Beans           Boys Yoshi Graphic Tee  "
      ]
     },
     "execution_count": 35,
     "metadata": {},
     "output_type": "execute_result"
    }
   ],
   "source": [
    "query = 'nintendo super mario'\n",
    "%time search_results = inv_ind.search(query)\n",
    "%time df_res = table_ser.read_rows_parallel(search_results)\n",
    "print(df_res.shape)\n",
    "df_res.head()"
   ]
  },
  {
   "cell_type": "code",
   "execution_count": 36,
   "metadata": {
    "ExecuteTime": {
     "end_time": "2025-05-08T21:06:19.232120Z",
     "start_time": "2025-05-08T21:06:16.535887Z"
    }
   },
   "outputs": [
    {
     "name": "stdout",
     "output_type": "stream",
     "text": [
      "CPU times: user 13.6 ms, sys: 728 µs, total: 14.3 ms\n",
      "Wall time: 13.7 ms\n",
      "CPU times: user 2.51 s, sys: 2.03 s, total: 4.54 s\n",
      "Wall time: 2.66 s\n"
     ]
    },
    {
     "data": {
      "text/html": [
       "<div>\n",
       "<style scoped>\n",
       "    .dataframe tbody tr th:only-of-type {\n",
       "        vertical-align: middle;\n",
       "    }\n",
       "\n",
       "    .dataframe tbody tr th {\n",
       "        vertical-align: top;\n",
       "    }\n",
       "\n",
       "    .dataframe thead th {\n",
       "        text-align: right;\n",
       "    }\n",
       "</style>\n",
       "<table border=\"1\" class=\"dataframe\">\n",
       "  <thead>\n",
       "    <tr style=\"text-align: right;\">\n",
       "      <th></th>\n",
       "      <th>parent_asin</th>\n",
       "      <th>main_category</th>\n",
       "      <th>title</th>\n",
       "      <th>description</th>\n",
       "      <th>features</th>\n",
       "      <th>brand</th>\n",
       "      <th>short_query</th>\n",
       "    </tr>\n",
       "  </thead>\n",
       "  <tbody>\n",
       "    <tr>\n",
       "      <th>0</th>\n",
       "      <td>B07K4CWWZH</td>\n",
       "      <td>All Beauty</td>\n",
       "      <td>Hvaxing Synthetic Afro Kinkys Curly Crochet Br...</td>\n",
       "      <td>Since 2014 crochet braids have been rising in ...</td>\n",
       "      <td>Style: Synthetic Crochet Braiding Hair,Afro Ki...</td>\n",
       "      <td>HVAXING</td>\n",
       "      <td>Afro Kinky Curly Crochet Hair</td>\n",
       "    </tr>\n",
       "    <tr>\n",
       "      <th>1</th>\n",
       "      <td>B01GTEH4F4</td>\n",
       "      <td>Sports &amp; Outdoors</td>\n",
       "      <td>Attwood 11772-1 Stand-Up Paddle Board (SUP) Pa...</td>\n",
       "      <td>This Attwood Stand-Up Paddle Board (SUP) Paddl...</td>\n",
       "      <td>Length-adjustable between 55 and 82 inches\\nVe...</td>\n",
       "      <td>Attwood</td>\n",
       "      <td>Attwood Adjustable SUP Paddle</td>\n",
       "    </tr>\n",
       "    <tr>\n",
       "      <th>2</th>\n",
       "      <td>B08G4K88YZ</td>\n",
       "      <td>Unknown</td>\n",
       "      <td>denisel Waterproof Small Toiletry Bag for Men ...</td>\n",
       "      <td>Made with good quality, water-resistant improv...</td>\n",
       "      <td>[Waterproof] Made with Good quality polyester ...</td>\n",
       "      <td>Ecoland</td>\n",
       "      <td>Compact waterproof toiletry bag</td>\n",
       "    </tr>\n",
       "    <tr>\n",
       "      <th>3</th>\n",
       "      <td>B07HJVVBXB</td>\n",
       "      <td>All Beauty</td>\n",
       "      <td>BLISSHAIR 2x6 Deep Middle Part Lace Closure Hu...</td>\n",
       "      <td>BLISSHAIR Brazilian 2x6 Deep Middle Part Lace ...</td>\n",
       "      <td>Bliss Hair - Brazilian Virgin 2x6 Lace Closure...</td>\n",
       "      <td>BLISSHAIR</td>\n",
       "      <td>Bliss Hair Lace Closure</td>\n",
       "    </tr>\n",
       "    <tr>\n",
       "      <th>4</th>\n",
       "      <td>B08BLB1ZZH</td>\n",
       "      <td>AMAZON FASHION</td>\n",
       "      <td>Mens Basketball Jerseys Lola#10 Bunny Space Mo...</td>\n",
       "      <td>It is the LOLA #10 Men's Basketball Jersey Spa...</td>\n",
       "      <td>Jersey,Polyester,Mesh\\nPull On closure\\n100% P...</td>\n",
       "      <td>Ki Cut</td>\n",
       "      <td>Lola #10 basketball jersey</td>\n",
       "    </tr>\n",
       "  </tbody>\n",
       "</table>\n",
       "</div>"
      ],
      "text/plain": [
       "  parent_asin      main_category  \\\n",
       "0  B07K4CWWZH         All Beauty   \n",
       "1  B01GTEH4F4  Sports & Outdoors   \n",
       "2  B08G4K88YZ            Unknown   \n",
       "3  B07HJVVBXB         All Beauty   \n",
       "4  B08BLB1ZZH     AMAZON FASHION   \n",
       "\n",
       "                                               title  \\\n",
       "0  Hvaxing Synthetic Afro Kinkys Curly Crochet Br...   \n",
       "1  Attwood 11772-1 Stand-Up Paddle Board (SUP) Pa...   \n",
       "2  denisel Waterproof Small Toiletry Bag for Men ...   \n",
       "3  BLISSHAIR 2x6 Deep Middle Part Lace Closure Hu...   \n",
       "4  Mens Basketball Jerseys Lola#10 Bunny Space Mo...   \n",
       "\n",
       "                                         description  \\\n",
       "0  Since 2014 crochet braids have been rising in ...   \n",
       "1  This Attwood Stand-Up Paddle Board (SUP) Paddl...   \n",
       "2  Made with good quality, water-resistant improv...   \n",
       "3  BLISSHAIR Brazilian 2x6 Deep Middle Part Lace ...   \n",
       "4  It is the LOLA #10 Men's Basketball Jersey Spa...   \n",
       "\n",
       "                                            features      brand  \\\n",
       "0  Style: Synthetic Crochet Braiding Hair,Afro Ki...    HVAXING   \n",
       "1  Length-adjustable between 55 and 82 inches\\nVe...    Attwood   \n",
       "2  [Waterproof] Made with Good quality polyester ...    Ecoland   \n",
       "3  Bliss Hair - Brazilian Virgin 2x6 Lace Closure...  BLISSHAIR   \n",
       "4  Jersey,Polyester,Mesh\\nPull On closure\\n100% P...     Ki Cut   \n",
       "\n",
       "                       short_query  \n",
       "0    Afro Kinky Curly Crochet Hair  \n",
       "1    Attwood Adjustable SUP Paddle  \n",
       "2  Compact waterproof toiletry bag  \n",
       "3          Bliss Hair Lace Closure  \n",
       "4       Lola #10 basketball jersey  "
      ]
     },
     "execution_count": 36,
     "metadata": {},
     "output_type": "execute_result"
    }
   ],
   "source": [
    "query = 'black'\n",
    "%time search_results = inv_ind.search(query)\n",
    "%time df_res = table_ser.read_rows_parallel(search_results)\n",
    "df_res.shape\n",
    "df_res.head()"
   ]
  },
  {
   "cell_type": "code",
   "execution_count": 41,
   "metadata": {
    "ExecuteTime": {
     "end_time": "2025-05-08T21:12:25.863537Z",
     "start_time": "2025-05-08T21:12:23.785791Z"
    }
   },
   "outputs": [
    {
     "name": "stdout",
     "output_type": "stream",
     "text": [
      "CPU times: user 15 ms, sys: 890 µs, total: 15.9 ms\n",
      "Wall time: 15.3 ms\n",
      "CPU times: user 2.02 s, sys: 751 ms, total: 2.78 s\n",
      "Wall time: 2.04 s\n"
     ]
    },
    {
     "data": {
      "text/html": [
       "<div>\n",
       "<style scoped>\n",
       "    .dataframe tbody tr th:only-of-type {\n",
       "        vertical-align: middle;\n",
       "    }\n",
       "\n",
       "    .dataframe tbody tr th {\n",
       "        vertical-align: top;\n",
       "    }\n",
       "\n",
       "    .dataframe thead th {\n",
       "        text-align: right;\n",
       "    }\n",
       "</style>\n",
       "<table border=\"1\" class=\"dataframe\">\n",
       "  <thead>\n",
       "    <tr style=\"text-align: right;\">\n",
       "      <th></th>\n",
       "      <th>parent_asin</th>\n",
       "      <th>main_category</th>\n",
       "      <th>title</th>\n",
       "      <th>description</th>\n",
       "      <th>features</th>\n",
       "      <th>brand</th>\n",
       "      <th>short_query</th>\n",
       "    </tr>\n",
       "  </thead>\n",
       "  <tbody>\n",
       "    <tr>\n",
       "      <th>0</th>\n",
       "      <td>B07K4CWWZH</td>\n",
       "      <td>All Beauty</td>\n",
       "      <td>Hvaxing Synthetic Afro Kinkys Curly Crochet Br...</td>\n",
       "      <td>Since 2014 crochet braids have been rising in ...</td>\n",
       "      <td>Style: Synthetic Crochet Braiding Hair,Afro Ki...</td>\n",
       "      <td>HVAXING</td>\n",
       "      <td>Afro Kinky Curly Crochet Hair</td>\n",
       "    </tr>\n",
       "    <tr>\n",
       "      <th>1</th>\n",
       "      <td>B01GTEH4F4</td>\n",
       "      <td>Sports &amp; Outdoors</td>\n",
       "      <td>Attwood 11772-1 Stand-Up Paddle Board (SUP) Pa...</td>\n",
       "      <td>This Attwood Stand-Up Paddle Board (SUP) Paddl...</td>\n",
       "      <td>Length-adjustable between 55 and 82 inches\\nVe...</td>\n",
       "      <td>Attwood</td>\n",
       "      <td>Attwood Adjustable SUP Paddle</td>\n",
       "    </tr>\n",
       "    <tr>\n",
       "      <th>2</th>\n",
       "      <td>B08G4K88YZ</td>\n",
       "      <td>Unknown</td>\n",
       "      <td>denisel Waterproof Small Toiletry Bag for Men ...</td>\n",
       "      <td>Made with good quality, water-resistant improv...</td>\n",
       "      <td>[Waterproof] Made with Good quality polyester ...</td>\n",
       "      <td>Ecoland</td>\n",
       "      <td>Compact waterproof toiletry bag</td>\n",
       "    </tr>\n",
       "    <tr>\n",
       "      <th>3</th>\n",
       "      <td>B07HJVVBXB</td>\n",
       "      <td>All Beauty</td>\n",
       "      <td>BLISSHAIR 2x6 Deep Middle Part Lace Closure Hu...</td>\n",
       "      <td>BLISSHAIR Brazilian 2x6 Deep Middle Part Lace ...</td>\n",
       "      <td>Bliss Hair - Brazilian Virgin 2x6 Lace Closure...</td>\n",
       "      <td>BLISSHAIR</td>\n",
       "      <td>Bliss Hair Lace Closure</td>\n",
       "    </tr>\n",
       "    <tr>\n",
       "      <th>4</th>\n",
       "      <td>B08BLB1ZZH</td>\n",
       "      <td>AMAZON FASHION</td>\n",
       "      <td>Mens Basketball Jerseys Lola#10 Bunny Space Mo...</td>\n",
       "      <td>It is the LOLA #10 Men's Basketball Jersey Spa...</td>\n",
       "      <td>Jersey,Polyester,Mesh\\nPull On closure\\n100% P...</td>\n",
       "      <td>Ki Cut</td>\n",
       "      <td>Lola #10 basketball jersey</td>\n",
       "    </tr>\n",
       "  </tbody>\n",
       "</table>\n",
       "</div>"
      ],
      "text/plain": [
       "  parent_asin      main_category  \\\n",
       "0  B07K4CWWZH         All Beauty   \n",
       "1  B01GTEH4F4  Sports & Outdoors   \n",
       "2  B08G4K88YZ            Unknown   \n",
       "3  B07HJVVBXB         All Beauty   \n",
       "4  B08BLB1ZZH     AMAZON FASHION   \n",
       "\n",
       "                                               title  \\\n",
       "0  Hvaxing Synthetic Afro Kinkys Curly Crochet Br...   \n",
       "1  Attwood 11772-1 Stand-Up Paddle Board (SUP) Pa...   \n",
       "2  denisel Waterproof Small Toiletry Bag for Men ...   \n",
       "3  BLISSHAIR 2x6 Deep Middle Part Lace Closure Hu...   \n",
       "4  Mens Basketball Jerseys Lola#10 Bunny Space Mo...   \n",
       "\n",
       "                                         description  \\\n",
       "0  Since 2014 crochet braids have been rising in ...   \n",
       "1  This Attwood Stand-Up Paddle Board (SUP) Paddl...   \n",
       "2  Made with good quality, water-resistant improv...   \n",
       "3  BLISSHAIR Brazilian 2x6 Deep Middle Part Lace ...   \n",
       "4  It is the LOLA #10 Men's Basketball Jersey Spa...   \n",
       "\n",
       "                                            features      brand  \\\n",
       "0  Style: Synthetic Crochet Braiding Hair,Afro Ki...    HVAXING   \n",
       "1  Length-adjustable between 55 and 82 inches\\nVe...    Attwood   \n",
       "2  [Waterproof] Made with Good quality polyester ...    Ecoland   \n",
       "3  Bliss Hair - Brazilian Virgin 2x6 Lace Closure...  BLISSHAIR   \n",
       "4  Jersey,Polyester,Mesh\\nPull On closure\\n100% P...     Ki Cut   \n",
       "\n",
       "                       short_query  \n",
       "0    Afro Kinky Curly Crochet Hair  \n",
       "1    Attwood Adjustable SUP Paddle  \n",
       "2  Compact waterproof toiletry bag  \n",
       "3          Bliss Hair Lace Closure  \n",
       "4       Lola #10 basketball jersey  "
      ]
     },
     "execution_count": 41,
     "metadata": {},
     "output_type": "execute_result"
    }
   ],
   "source": [
    "query = 'black'\n",
    "%time search_results = inv_ind.search(query)\n",
    "%time df_res = table_ser.read_rows_parallel_mmap(search_results)\n",
    "df_res.shape\n",
    "df_res.head()"
   ]
  },
  {
   "cell_type": "markdown",
   "metadata": {},
   "source": [
    "## benchmark"
   ]
  },
  {
   "cell_type": "code",
   "execution_count": 55,
   "metadata": {
    "ExecuteTime": {
     "end_time": "2025-05-08T21:19:32.749076Z",
     "start_time": "2025-05-08T21:19:32.733749Z"
    }
   },
   "outputs": [],
   "source": [
    "import time\n",
    "import random\n",
    "\n",
    "def benchmark_read_methods(ts: TableSerializer, num_rows: int = 1000, runs: int = 3, max_workers: int = 4):\n",
    "    \"\"\"\n",
    "    Benchmark different read_rows_parallel strategies.\n",
    "\n",
    "    Args:\n",
    "        ts: An instance of TableSerializer.\n",
    "        num_rows: Number of rows to sample.\n",
    "        runs: Number of benchmark repetitions.\n",
    "        max_workers: Number of threads/processes.\n",
    "    \"\"\"\n",
    "    # Sample indices to simulate random access\n",
    "    total_rows = len(ts._load_offsets())\n",
    "    indices = random.sample(range(total_rows), min(num_rows, total_rows))\n",
    "\n",
    "    results = {}\n",
    "\n",
    "    # Method 1: ThreadPoolExecutor\n",
    "    def method_threadpool():\n",
    "        return ts.read_rows_parallel(indices, max_workers=max_workers)\n",
    "\n",
    "    # Method 2: mmap + ThreadPoolExecutor\n",
    "    def method_mmap():\n",
    "        return ts.read_rows_parallel_mmap(indices, max_workers=max_workers)  # Make sure your class uses mmap version\n",
    "\n",
    "    # Method 3: ProcessPoolExecutor\n",
    "    def method_processpool():\n",
    "        return ts.read_rows_parallel_multiprocess(indices, max_workers=max_workers)\n",
    "\n",
    "    methods = {\n",
    "        \"ThreadPoolExecutor\": method_threadpool,\n",
    "        \"mmap + ThreadPoolExecutor\": method_mmap,\n",
    "#        \"ProcessPoolExecutor\": method_processpool, # does not work in jupyter\n",
    "    }\n",
    "\n",
    "    for name, method in methods.items():\n",
    "        times = []\n",
    "        for _ in range(runs):\n",
    "            start = time.time()\n",
    "            _ = method()\n",
    "            times.append(time.time() - start)\n",
    "        avg = sum(times) / runs\n",
    "        results[name] = avg\n",
    "        print(f\"{name:<30} | Avg Time: {avg:.4f} sec\")\n",
    "\n",
    "    return results\n"
   ]
  },
  {
   "cell_type": "code",
   "execution_count": 56,
   "metadata": {
    "ExecuteTime": {
     "end_time": "2025-05-08T21:19:39.242006Z",
     "start_time": "2025-05-08T21:19:33.013135Z"
    }
   },
   "outputs": [
    {
     "name": "stdout",
     "output_type": "stream",
     "text": [
      "ThreadPoolExecutor             | Avg Time: 1.2743 sec\n",
      "mmap + ThreadPoolExecutor      | Avg Time: 0.7878 sec\n"
     ]
    },
    {
     "data": {
      "text/plain": [
       "{'ThreadPoolExecutor': 1.2742706934611003,\n",
       " 'mmap + ThreadPoolExecutor': 0.7878332932790121}"
      ]
     },
     "execution_count": 56,
     "metadata": {},
     "output_type": "execute_result"
    }
   ],
   "source": [
    "benchmark_read_methods(table_ser, num_rows=10000)"
   ]
  },
  {
   "cell_type": "code",
   "execution_count": null,
   "metadata": {},
   "outputs": [],
   "source": []
  }
 ],
 "metadata": {
  "kernelspec": {
   "display_name": "Python 3 (ipykernel)",
   "language": "python",
   "name": "python3"
  },
  "language_info": {
   "codemirror_mode": {
    "name": "ipython",
    "version": 3
   },
   "file_extension": ".py",
   "mimetype": "text/x-python",
   "name": "python",
   "nbconvert_exporter": "python",
   "pygments_lexer": "ipython3",
   "version": "3.8.5"
  },
  "toc": {
   "base_numbering": 1,
   "nav_menu": {},
   "number_sections": true,
   "sideBar": true,
   "skip_h1_title": false,
   "title_cell": "Table of Contents",
   "title_sidebar": "Contents",
   "toc_cell": true,
   "toc_position": {
    "height": "calc(100% - 180px)",
    "left": "10px",
    "top": "150px",
    "width": "365.797px"
   },
   "toc_section_display": true,
   "toc_window_display": true
  },
  "varInspector": {
   "cols": {
    "lenName": 16,
    "lenType": 16,
    "lenVar": 40
   },
   "kernels_config": {
    "python": {
     "delete_cmd_postfix": "",
     "delete_cmd_prefix": "del ",
     "library": "var_list.py",
     "varRefreshCmd": "print(var_dic_list())"
    },
    "r": {
     "delete_cmd_postfix": ") ",
     "delete_cmd_prefix": "rm(",
     "library": "var_list.r",
     "varRefreshCmd": "cat(var_dic_list()) "
    }
   },
   "types_to_exclude": [
    "module",
    "function",
    "builtin_function_or_method",
    "instance",
    "_Feature"
   ],
   "window_display": false
  }
 },
 "nbformat": 4,
 "nbformat_minor": 4
}
